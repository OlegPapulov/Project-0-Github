{
 "cells": [
  {
   "cell_type": "code",
   "execution_count": null,
   "metadata": {
    "_cell_guid": "b1076dfc-b9ad-4769-8c92-a6c4dae69d19",
    "_uuid": "8f2839f25d086af736a60e9eeb907d3b93b6e0e5",
    "colab": {},
    "colab_type": "code",
    "id": "U2D2gTdJVp90"
   },
   "outputs": [],
   "source": [
    "import numpy as np\n",
    "import pandas as pd\n",
    "import seaborn as sns\n",
    "import matplotlib.pyplot as plt\n",
    "from collections import Counter"
   ]
  },
  {
   "cell_type": "code",
   "execution_count": null,
   "metadata": {
    "_cell_guid": "79c7e3d0-c299-4dcb-8224-4455121ee9b0",
    "_uuid": "d629ff2d2480ee46fbb7e2d37f6b5fab8052498a",
    "colab": {},
    "colab_type": "code",
    "id": "oyGfxL3eVp9-"
   },
   "outputs": [],
   "source": [
    "data = pd.read_csv('movie_bd_v5.csv')\n",
    "data.sample(5)"
   ]
  },
  {
   "cell_type": "code",
   "execution_count": null,
   "metadata": {
    "colab": {},
    "colab_type": "code",
    "id": "CoYUnagMVp-C"
   },
   "outputs": [],
   "source": [
    "data.info()"
   ]
  },
  {
   "cell_type": "markdown",
   "metadata": {
    "colab_type": "text",
    "id": "DTIt7ezGVp-G"
   },
   "source": [
    "# Предобработка"
   ]
  },
  {
   "cell_type": "code",
   "execution_count": null,
   "metadata": {
    "colab": {},
    "colab_type": "code",
    "id": "jNb40DwKVp-H"
   },
   "outputs": [],
   "source": [
    "answers = {} # создадим словарь для ответов\n",
    "\n",
    "data = pd.read_csv('movie_bd_v5.csv')\n",
    "\n",
    "data['profit'] = data['revenue']-data['budget']\n",
    "# тут другие ваши предобработки колонок например:\n",
    "\n",
    "def separator(item):\n",
    "    item = item.split('|')\n",
    "    return item\n",
    "\n",
    "for values in ['genres', 'cast', 'production_companies']:\n",
    "    data[values] = data[values].apply(lambda x: separator(x))\n",
    "\n",
    "def season(item):\n",
    "    item = int(str(item)[:item.find('/')])\n",
    "    return item\n",
    "\n",
    "data['release_date'] = data['release_date'].apply(lambda x: season(x))\n",
    "\n",
    "data = data.rename(columns = {'release_date':'release_month'})\n",
    "data['overview_length'] = data['overview'].apply(lambda x: len((str(x).split())))\n",
    "data['title_length'] = data['original_title'].apply(lambda x: len(x))\n",
    "\n",
    "data\n",
    "\n",
    "\n",
    "#the time given in the dataset is in string format.\n",
    "#So we need to change this in datetime format\n",
    "# ..."
   ]
  },
  {
   "cell_type": "markdown",
   "metadata": {
    "colab_type": "text",
    "id": "YxZaH-nPVp-L"
   },
   "source": [
    "# 1. У какого фильма из списка самый большой бюджет?"
   ]
  },
  {
   "cell_type": "markdown",
   "metadata": {
    "colab_type": "text",
    "id": "Nd-G5gX6Vp-M"
   },
   "source": [
    "Использовать варианты ответов в коде решения запрещено.    \n",
    "Вы думаете и в жизни у вас будут варианты ответов?)"
   ]
  },
  {
   "cell_type": "code",
   "execution_count": null,
   "metadata": {
    "colab": {},
    "colab_type": "code",
    "id": "uVnXAY5RVp-O"
   },
   "outputs": [],
   "source": [
    "# в словарь вставляем номер вопроса и ваш ответ на него\n",
    "# Пример: \n",
    "answers['1'] = '2. Spider-Man 3 (tt0413300)'\n",
    "# запишите свой вариант ответа\n",
    "data_1 = data.loc[data['budget'] == data['budget'].max()]\n",
    "answers['1'] = str(data_1['original_title'].values[0]+' ('+data_1['imdb_id'].values[0]+')')\n",
    "# если ответили верно, можете добавить комментарий со значком \"+\""
   ]
  },
  {
   "cell_type": "code",
   "execution_count": null,
   "metadata": {
    "colab": {},
    "colab_type": "code",
    "id": "dZwb3m28Vp-S"
   },
   "outputs": [],
   "source": [
    "data.loc[\n",
    "    data['budget'] == data['budget'].max(),\n",
    "    ['original_title']]['original_title'].values[0]"
   ]
  },
  {
   "cell_type": "markdown",
   "metadata": {
    "colab_type": "text",
    "id": "K7L3nbRXVp-X"
   },
   "source": [
    "ВАРИАНТ 2"
   ]
  },
  {
   "cell_type": "code",
   "execution_count": null,
   "metadata": {
    "colab": {},
    "colab_type": "code",
    "id": "OGaoQI7rVp-X"
   },
   "outputs": [],
   "source": [
    "# можно добавлять разные варианты решения"
   ]
  },
  {
   "cell_type": "markdown",
   "metadata": {
    "colab_type": "text",
    "id": "FNRbbI3vVp-c"
   },
   "source": [
    "# 2. Какой из фильмов самый длительный (в минутах)?"
   ]
  },
  {
   "cell_type": "code",
   "execution_count": null,
   "metadata": {
    "colab": {},
    "colab_type": "code",
    "id": "vHAoEXNTVp-d"
   },
   "outputs": [],
   "source": [
    "# думаю логику работы с этим словарем вы уже поняли, \n",
    "# по этому не буду больше его дублировать\n",
    "data_2 = data.loc[data['runtime'] == data['runtime'].max()]\n",
    "answers['2'] = str(data_2['original_title'].values[0]+' ('+data_2['imdb_id'].values[0]+')')"
   ]
  },
  {
   "cell_type": "code",
   "execution_count": null,
   "metadata": {
    "colab": {},
    "colab_type": "code",
    "id": "ot-VX2XrVp-g"
   },
   "outputs": [],
   "source": [
    "data.loc[data['runtime'] == data['runtime'].max(),['original_title']]['original_title'].values[0]"
   ]
  },
  {
   "cell_type": "markdown",
   "metadata": {
    "colab_type": "text",
    "id": "bapLlpW8Vp-k"
   },
   "source": [
    "# 3. Какой из фильмов самый короткий (в минутах)?\n",
    "\n",
    "\n",
    "\n"
   ]
  },
  {
   "cell_type": "code",
   "execution_count": null,
   "metadata": {
    "colab": {},
    "colab_type": "code",
    "id": "YBxaSHuAVp-l"
   },
   "outputs": [],
   "source": [
    "data_3 = data.loc[data['runtime'] == data['runtime'].min()]\n",
    "answers['3'] = str(data_3['original_title'].values[0]+' ('+data_3['imdb_id'].values[0]+')')"
   ]
  },
  {
   "cell_type": "markdown",
   "metadata": {
    "colab_type": "text",
    "id": "TfQbxbfNVp-p"
   },
   "source": [
    "# 4. Какова средняя длительность фильмов?\n"
   ]
  },
  {
   "cell_type": "code",
   "execution_count": null,
   "metadata": {
    "colab": {},
    "colab_type": "code",
    "id": "5K6dKZYVVp-q"
   },
   "outputs": [],
   "source": [
    "answers['4'] = data['runtime'].mean()"
   ]
  },
  {
   "cell_type": "markdown",
   "metadata": {
    "colab_type": "text",
    "id": "r5TvbnT_Vp-u"
   },
   "source": [
    "# 5. Каково медианное значение длительности фильмов? "
   ]
  },
  {
   "cell_type": "code",
   "execution_count": null,
   "metadata": {
    "colab": {},
    "colab_type": "code",
    "id": "iBROplKnVp-v"
   },
   "outputs": [],
   "source": [
    "answers['5'] = data['runtime'].median()"
   ]
  },
  {
   "cell_type": "markdown",
   "metadata": {
    "colab_type": "text",
    "id": "39P-deDSVp-y"
   },
   "source": [
    "# 6. Какой самый прибыльный фильм?\n",
    "#### Внимание! Здесь и далее под «прибылью» или «убытками» понимается разность между сборами и бюджетом фильма. (прибыль = сборы - бюджет) в нашем датасете это будет (profit = revenue - budget) "
   ]
  },
  {
   "cell_type": "code",
   "execution_count": null,
   "metadata": {
    "colab": {},
    "colab_type": "code",
    "id": "UYZh4T9WVp-y"
   },
   "outputs": [],
   "source": [
    "# лучше код получения столбца profit вынести в Предобработку что в начале\n",
    "data_6 = data.loc[data['profit'] == data['profit'].max()]\n",
    "answers['6'] = str(data_6['original_title'].values[0]+' ('+data_6['imdb_id'].values[0]+')')"
   ]
  },
  {
   "cell_type": "markdown",
   "metadata": {
    "colab_type": "text",
    "id": "M99JmIX4Vp-2"
   },
   "source": [
    "# 7. Какой фильм самый убыточный? "
   ]
  },
  {
   "cell_type": "code",
   "execution_count": null,
   "metadata": {
    "colab": {},
    "colab_type": "code",
    "id": "w-D2m4XPVp-3"
   },
   "outputs": [],
   "source": [
    "data_7 = data.loc[data['profit'] == data['profit'].min()]\n",
    "answers['7'] = str(data_7['original_title'].values[0]+' ('+data_7['imdb_id'].values[0]+')')"
   ]
  },
  {
   "cell_type": "markdown",
   "metadata": {
    "colab_type": "text",
    "id": "wEOM5ERVVp-6"
   },
   "source": [
    "# 8. У скольких фильмов из датасета объем сборов оказался выше бюджета?"
   ]
  },
  {
   "cell_type": "code",
   "execution_count": null,
   "metadata": {
    "colab": {},
    "colab_type": "code",
    "id": "y00_7HD6Vp-7"
   },
   "outputs": [],
   "source": [
    "answers['8'] = len(data.loc[data['profit']>0])"
   ]
  },
  {
   "cell_type": "markdown",
   "metadata": {
    "colab_type": "text",
    "id": "xhpspA9KVp_A"
   },
   "source": [
    "# 9. Какой фильм оказался самым кассовым в 2008 году?"
   ]
  },
  {
   "cell_type": "code",
   "execution_count": null,
   "metadata": {
    "colab": {},
    "colab_type": "code",
    "id": "MoUyQr9RVp_B"
   },
   "outputs": [],
   "source": [
    "data_9 = data.loc[data['release_year'] == 2008]\n",
    "data_9 = data_9.loc[data_9['profit'] == data_9['profit'].max()]\n",
    "answers['9'] = str(data_9['original_title'].values[0]+' ('+data_7['imdb_id'].values[0]+')')"
   ]
  },
  {
   "cell_type": "markdown",
   "metadata": {
    "colab_type": "text",
    "id": "Zi4hDKidVp_F"
   },
   "source": [
    "# 10. Самый убыточный фильм за период с 2012 по 2014 г. (включительно)?"
   ]
  },
  {
   "cell_type": "code",
   "execution_count": null,
   "metadata": {
    "colab": {},
    "colab_type": "code",
    "id": "XqyRmufJVp_F"
   },
   "outputs": [],
   "source": [
    "data_10 = data.loc[(data['release_year']>=2012)&data['release_year']<=2014]\n",
    "data_10 = data_10.loc[data_10['profit'] == data_10['profit'].min()]\n",
    "answers['10'] = str(data_10['original_title'].values[0]+' ('+data_10['imdb_id'].values[0]+')')"
   ]
  },
  {
   "cell_type": "markdown",
   "metadata": {
    "colab_type": "text",
    "id": "EA7Sa9dkVp_I"
   },
   "source": [
    "# 11. Какого жанра фильмов больше всего?"
   ]
  },
  {
   "cell_type": "code",
   "execution_count": null,
   "metadata": {
    "colab": {},
    "colab_type": "code",
    "id": "zsJAwJ8QVp_J"
   },
   "outputs": [],
   "source": [
    "# эту задачу тоже можно решать разными подходами, попробуй реализовать разные варианты\n",
    "# если будешь добавлять функцию - выноси ее в предобработку что в начале\n",
    "genres_list_11 = []\n",
    "\n",
    "for item in data['genres']:\n",
    "    for x in item:\n",
    "        genres_list_11.append(x)\n",
    "\n",
    "answers['11'] = max(set(genres_list_11), key = genres_list_11.count)"
   ]
  },
  {
   "cell_type": "markdown",
   "metadata": {
    "colab_type": "text",
    "id": "Ax6g2C8SVp_M"
   },
   "source": [
    "ВАРИАНТ 2"
   ]
  },
  {
   "cell_type": "code",
   "execution_count": null,
   "metadata": {
    "colab": {},
    "colab_type": "code",
    "id": "otO3SbrSVp_N"
   },
   "outputs": [],
   "source": [
    "print(answers)"
   ]
  },
  {
   "cell_type": "markdown",
   "metadata": {
    "colab_type": "text",
    "id": "T9_bPWpkVp_Q"
   },
   "source": [
    "# 12. Фильмы какого жанра чаще всего становятся прибыльными? "
   ]
  },
  {
   "cell_type": "code",
   "execution_count": null,
   "metadata": {
    "colab": {},
    "colab_type": "code",
    "id": "Tmt8MaK1Vp_R"
   },
   "outputs": [],
   "source": [
    "data_12 = data.loc[data['profit']>0]\n",
    "genres_list_12 = []\n",
    "\n",
    "for item in data_12['genres']:\n",
    "    for x in item:\n",
    "        genres_list_12.append(x)\n",
    "\n",
    "answers['12'] = max(set(genres_list_12), key = genres_list_12.count)"
   ]
  },
  {
   "cell_type": "markdown",
   "metadata": {
    "colab_type": "text",
    "id": "0F23bgsDVp_U"
   },
   "source": [
    "# 13. У какого режиссера самые большие суммарные кассовые сборы?"
   ]
  },
  {
   "cell_type": "code",
   "execution_count": null,
   "metadata": {
    "colab": {},
    "colab_type": "code",
    "id": "K6Z3J8ygVp_X"
   },
   "outputs": [],
   "source": [
    "data_13 = data.groupby('director')['revenue'].sum().sort_values(ascending=False).head(1)\n",
    "answers['13'] = data_13.index[0]"
   ]
  },
  {
   "cell_type": "markdown",
   "metadata": {
    "colab_type": "text",
    "id": "PsYC9FgRVp_a"
   },
   "source": [
    "# 14. Какой режисер снял больше всего фильмов в стиле Action?"
   ]
  },
  {
   "cell_type": "code",
   "execution_count": null,
   "metadata": {
    "colab": {},
    "colab_type": "code",
    "id": "wd2M-wHeVp_b"
   },
   "outputs": [],
   "source": [
    "data_14 = data.loc[:, ['genres', 'director']]\n",
    "data_14['director'] = data_14['director'].str.split('|')\n",
    "data_14 = data_14.explode('director', 'genres')\n",
    "data_14 = data_14.explode('genres')\n",
    "data_14 = data_14.loc[data_14['genres'] == 'Action']\n",
    "data_14 = data_14['director'].value_counts()\n",
    "\n",
    "answers['14'] = data_14.index[0]"
   ]
  },
  {
   "cell_type": "markdown",
   "metadata": {
    "colab_type": "text",
    "id": "PQ0KciD7Vp_f"
   },
   "source": [
    "# 15. Фильмы с каким актером принесли самые высокие кассовые сборы в 2012 году? "
   ]
  },
  {
   "cell_type": "code",
   "execution_count": null,
   "metadata": {
    "colab": {},
    "colab_type": "code",
    "id": "aga62oeKVp_g"
   },
   "outputs": [],
   "source": [
    "data_15 = data[data['release_year'] == 2012]\n",
    "data_15 = data_15.explode('cast')\n",
    "data_15 = data_15.groupby('cast')['revenue'].sum().sort_values(ascending=False)\n",
    "answers['15'] = data_15.index[0]\n",
    "\n",
    "display(answers['15'])"
   ]
  },
  {
   "cell_type": "markdown",
   "metadata": {
    "colab_type": "text",
    "id": "mWHyyL7QVp_j"
   },
   "source": [
    "# 16. Какой актер снялся в большем количестве высокобюджетных фильмов?"
   ]
  },
  {
   "cell_type": "code",
   "execution_count": null,
   "metadata": {
    "colab": {},
    "colab_type": "code",
    "id": "qQtmHKTFVp_k"
   },
   "outputs": [],
   "source": [
    "data_16 = data[data['budget']>data['budget'].mean()]\n",
    "data_16 = data_16.explode('cast')\n",
    "data_16 = data_16['cast'].value_counts()\n",
    "\n",
    "answers['16'] = data_16.index[0]"
   ]
  },
  {
   "cell_type": "markdown",
   "metadata": {
    "colab_type": "text",
    "id": "NIh6AaW5Vp_n"
   },
   "source": [
    "# 17. В фильмах какого жанра больше всего снимался Nicolas Cage? "
   ]
  },
  {
   "cell_type": "code",
   "execution_count": null,
   "metadata": {
    "colab": {},
    "colab_type": "code",
    "id": "H74SJDIBVp_n"
   },
   "outputs": [],
   "source": [
    "data_17 = data\n",
    "data_17 = data_17.explode('genres')\n",
    "data_17 = data_17.explode('cast')\n",
    "data_17 = data_17.loc[data_17['cast'] == 'Nicolas Cage']\n",
    "data_17 = data_17['genres'].value_counts()\n",
    "\n",
    "answers['17'] = str(data_17.index[0])"
   ]
  },
  {
   "cell_type": "markdown",
   "metadata": {
    "colab_type": "text",
    "id": "RqOmPRfWVp_q"
   },
   "source": [
    "# 18. Самый убыточный фильм от Paramount Pictures"
   ]
  },
  {
   "cell_type": "code",
   "execution_count": null,
   "metadata": {
    "colab": {},
    "colab_type": "code",
    "id": "9E_B0Y96Vp_r"
   },
   "outputs": [],
   "source": [
    "data_18 = data\n",
    "data_18 = data_18.explode('production_companies')\n",
    "data_18 = data_18.loc[(data_18['production_companies'] == 'Paramount Pictures')]\n",
    "data_18 = data_18.loc[data_18['profit'] == data_18['profit'].min()]\n",
    "answers['18'] = data_18['original_title'].values[0]"
   ]
  },
  {
   "cell_type": "markdown",
   "metadata": {
    "colab_type": "text",
    "id": "vS8Ur6ddVp_u"
   },
   "source": [
    "# 19. Какой год стал самым успешным по суммарным кассовым сборам?"
   ]
  },
  {
   "cell_type": "code",
   "execution_count": null,
   "metadata": {
    "colab": {},
    "colab_type": "code",
    "id": "Dnbt4GdIVp_v"
   },
   "outputs": [],
   "source": [
    "data_19 = data.groupby('release_year')['revenue'].sum().sort_values(ascending=False)\n",
    "answers['19'] = data_19.index[0]"
   ]
  },
  {
   "cell_type": "markdown",
   "metadata": {
    "colab_type": "text",
    "id": "JAzJh4QAVp_z"
   },
   "source": [
    "# 20. Какой самый прибыльный год для студии Warner Bros?"
   ]
  },
  {
   "cell_type": "code",
   "execution_count": null,
   "metadata": {
    "colab": {},
    "colab_type": "code",
    "id": "wgVu02DEVp_0"
   },
   "outputs": [],
   "source": [
    "data_20 = data.explode('production_companies')\n",
    "data_20 = data_20.loc[data_20['production_companies'].str.contains('Warner')]\n",
    "data_20 = data_20.groupby('release_year')['profit'].sum().sort_values(ascending=False)\n",
    "answers['20'] = data_20.index[0]"
   ]
  },
  {
   "cell_type": "markdown",
   "metadata": {
    "colab_type": "text",
    "id": "8Im1S2HRVp_4"
   },
   "source": [
    "# 21. В каком месяце за все годы суммарно вышло больше всего фильмов?"
   ]
  },
  {
   "cell_type": "code",
   "execution_count": null,
   "metadata": {
    "colab": {},
    "colab_type": "code",
    "id": "lev6TH7gVp_4"
   },
   "outputs": [],
   "source": [
    "data_21 = data['release_month'].value_counts()\n",
    "data_21_result = data_21.index[0]\n",
    "\n",
    "months_rus = ['Январь', 'Февраль',\n",
    "              'Март', 'Апрель', 'Май',\n",
    "              'Июнь', 'Июль', 'Август',\n",
    "              'Сентябрь', 'Октябрь', 'Ноябрь',\n",
    "              'Декабрь']\n",
    "answers['21'] = months_rus[int(data_21_result)-1]\n",
    "print(answers['21'])"
   ]
  },
  {
   "cell_type": "markdown",
   "metadata": {
    "colab_type": "text",
    "id": "uAJsZ_NeVp_7"
   },
   "source": [
    "# 22. Сколько суммарно вышло фильмов летом? (за июнь, июль, август)"
   ]
  },
  {
   "cell_type": "code",
   "execution_count": null,
   "metadata": {
    "colab": {},
    "colab_type": "code",
    "id": "Aa-hEREoVp_8"
   },
   "outputs": [],
   "source": [
    "answers['22'] = len(data.loc[(data['release_month'] >= 6)&(data['release_month'] <= 8)])\n",
    "print(answers['22'])"
   ]
  },
  {
   "cell_type": "markdown",
   "metadata": {
    "colab_type": "text",
    "id": "G94ppOY1VqAA"
   },
   "source": [
    "# 23. Для какого режиссера зима – самое продуктивное время года? "
   ]
  },
  {
   "cell_type": "code",
   "execution_count": null,
   "metadata": {
    "colab": {},
    "colab_type": "code",
    "id": "RhNTsamuVqAB"
   },
   "outputs": [],
   "source": [
    "data_23 = data.loc[(data['release_month'] == 1)|(data['release_month'] == 2)|(data['release_month'] == 12)]\n",
    "data_23 = data_23.groupby('director')['release_month'].sum().sort_values(ascending=False)\n",
    "answers['23'] = data_23.index[0]"
   ]
  },
  {
   "cell_type": "markdown",
   "metadata": {
    "colab_type": "text",
    "id": "RBo0JVjVVqAF"
   },
   "source": [
    "# 24. Какая студия дает самые длинные названия своим фильмам по количеству символов?"
   ]
  },
  {
   "cell_type": "code",
   "execution_count": null,
   "metadata": {
    "colab": {},
    "colab_type": "code",
    "id": "QRGS8L0iVqAG"
   },
   "outputs": [],
   "source": [
    "data_24 = data.explode('production_companies')\n",
    "data_24 = data_24.groupby(data_24['production_companies'])['title_length'].mean().sort_values(ascending=False)\n",
    "\n",
    "answers['24'] = data_24.index[0]"
   ]
  },
  {
   "cell_type": "markdown",
   "metadata": {
    "colab_type": "text",
    "id": "9G0hbvR7VqAK"
   },
   "source": [
    "# 25. Описание фильмов какой студии в среднем самые длинные по количеству слов?"
   ]
  },
  {
   "cell_type": "code",
   "execution_count": null,
   "metadata": {
    "colab": {},
    "colab_type": "code",
    "id": "Ge2GsLNxVqAK"
   },
   "outputs": [],
   "source": [
    "data_25 = data.explode('production_companies')\n",
    "data_25 = data_25.groupby(data_25['production_companies'])['overview_length'].mean().sort_values(ascending=False)\n",
    "answers['25'] = data_25.index[0]"
   ]
  },
  {
   "cell_type": "markdown",
   "metadata": {
    "colab_type": "text",
    "id": "FJ1AFt90VqAP"
   },
   "source": [
    "# 26. Какие фильмы входят в 1 процент лучших по рейтингу? \n",
    "по vote_average"
   ]
  },
  {
   "cell_type": "code",
   "execution_count": null,
   "metadata": {
    "colab": {},
    "colab_type": "code",
    "id": "8qmJVq4CVqAQ"
   },
   "outputs": [],
   "source": [
    "data_26 = data.loc[data['vote_average']>=data['vote_average'].quantile(0.99)]\n",
    "data_26 = data_26.sort_values(by='vote_average', ascending=False)\n",
    "answers['26'] = data_26['original_title']"
   ]
  },
  {
   "cell_type": "markdown",
   "metadata": {
    "colab_type": "text",
    "id": "MdXsUXbCVqAV"
   },
   "source": [
    "# 27. Какие актеры чаще всего снимаются в одном фильме вместе?\n"
   ]
  },
  {
   "cell_type": "code",
   "execution_count": null,
   "metadata": {},
   "outputs": [],
   "source": [
    "'''создаём датафрейм\n",
    "с двумя колонкам: названия и каст\n",
    "каст затем эксплоудим.\n",
    "подход следующий:\n",
    "1) берём первое имя в касте\n",
    "2) берём следующее имя в касте\n",
    "3) отфильтровываем датафрейм, оставляя только совместные работы в столбце с названиями фильмов\n",
    "4) определяем максимальную частоту совместной работы (по количеству уникальных названий фильмов)\n",
    "5) убираем из датафрейма всех актёров, которые снимались меньше, чем максимальная частота\n",
    "6) повторяем\n",
    "\n",
    "проблема в таком случае определить порог итераций\n",
    "возможно порог длина датафрейма > 2 * счётчик итераций\n",
    "то есть, задача, отфильтровать'''\n",
    "\n",
    "data_27 = data[['original_title', 'cast']].explode('cast')\n",
    "data_27['frequency'] = data_27['cast'].map(data_27['cast'].value_counts())\n",
    "data_27 = data_27.sort_values(by='frequency', ascending = False)\n",
    "data_27_cast = [*data_27['cast'].unique()]\n",
    "data_27_cast = [str(item) for item in data_27_cast]\n",
    "max_pair = 0\n",
    "max_pair_names = ()\n",
    "\n",
    "for name_1 in data_27_cast:\n",
    "    for name_2 in data_27_cast:\n",
    "        if name_1 == name_2 or (name_1 in data_27['cast'] == False) or (name_2 in data_27['cast'] == False):\n",
    "            continue\n",
    "        else:\n",
    "            data_27_working = data_27.loc[(data_27['cast'] == name_1)|(data_27['cast'] == name_2)]\n",
    "            data_27_working = data_27_working[data_27_working.duplicated('original_title', keep=False)]\n",
    "            result = data_27_working['original_title'].nunique()\n",
    "            if max_pair < result:\n",
    "                max_pair = result\n",
    "                max_pair_names = (str(name_1), str(name_2))\n",
    "                data_27 = data_27.loc[data_27['frequency'] > max_pair]\n",
    "    data_27 = data_27.loc[data_27['cast'] != name_1]\n",
    "    if len(data_27) == 0:\n",
    "        break\n",
    "                                      \n",
    "answers['27'] = max_pair_names"
   ]
  },
  {
   "cell_type": "markdown",
   "metadata": {
    "colab_type": "text",
    "id": "4ymnxEVoVqAW"
   },
   "source": [
    "ВАРИАНТ 2"
   ]
  },
  {
   "cell_type": "code",
   "execution_count": null,
   "metadata": {},
   "outputs": [],
   "source": []
  },
  {
   "cell_type": "markdown",
   "metadata": {
    "colab_type": "text",
    "id": "U0nONFnGVqAX"
   },
   "source": [
    "# Submission"
   ]
  },
  {
   "cell_type": "code",
   "execution_count": null,
   "metadata": {
    "colab": {},
    "colab_type": "code",
    "id": "IfcaRO9-VqAX",
    "outputId": "0f132912-32bb-4196-c98c-abfbc4ad5a5f"
   },
   "outputs": [],
   "source": [
    "# в конце можно посмотреть свои ответы к каждому вопросу\n",
    "answers"
   ]
  },
  {
   "cell_type": "code",
   "execution_count": null,
   "metadata": {
    "colab": {},
    "colab_type": "code",
    "id": "SiRmHPl8VqAd"
   },
   "outputs": [],
   "source": [
    "# и убедиться что ни чего не пропустил)\n",
    "len(answers)"
   ]
  },
  {
   "cell_type": "code",
   "execution_count": null,
   "metadata": {
    "colab": {},
    "colab_type": "code",
    "id": "uCfuTkRbVqAg"
   },
   "outputs": [],
   "source": []
  },
  {
   "cell_type": "code",
   "execution_count": null,
   "metadata": {
    "colab": {},
    "colab_type": "code",
    "id": "Vwx3NrkSVqAl"
   },
   "outputs": [],
   "source": []
  }
 ],
 "metadata": {
  "colab": {
   "name": "Copy of [SF-DST] Movies IMBD v4.1 TEMPLATE.ipynb",
   "provenance": []
  },
  "kernelspec": {
   "display_name": "Python 3",
   "language": "python",
   "name": "python3"
  },
  "language_info": {
   "codemirror_mode": {
    "name": "ipython",
    "version": 3
   },
   "file_extension": ".py",
   "mimetype": "text/x-python",
   "name": "python",
   "nbconvert_exporter": "python",
   "pygments_lexer": "ipython3",
   "version": "3.8.5"
  }
 },
 "nbformat": 4,
 "nbformat_minor": 1
}
