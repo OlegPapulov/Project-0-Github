{
 "cells": [
  {
   "cell_type": "code",
   "execution_count": 1,
   "metadata": {
    "_cell_guid": "b1076dfc-b9ad-4769-8c92-a6c4dae69d19",
    "_uuid": "8f2839f25d086af736a60e9eeb907d3b93b6e0e5",
    "colab": {},
    "colab_type": "code",
    "id": "U2D2gTdJVp90"
   },
   "outputs": [],
   "source": [
    "import numpy as np\n",
    "import pandas as pd\n",
    "import seaborn as sns\n",
    "import matplotlib.pyplot as plt\n",
    "from collections import Counter"
   ]
  },
  {
   "cell_type": "code",
   "execution_count": 2,
   "metadata": {
    "_cell_guid": "79c7e3d0-c299-4dcb-8224-4455121ee9b0",
    "_uuid": "d629ff2d2480ee46fbb7e2d37f6b5fab8052498a",
    "colab": {},
    "colab_type": "code",
    "id": "oyGfxL3eVp9-"
   },
   "outputs": [
    {
     "data": {
      "text/html": [
       "<div>\n",
       "<style scoped>\n",
       "    .dataframe tbody tr th:only-of-type {\n",
       "        vertical-align: middle;\n",
       "    }\n",
       "\n",
       "    .dataframe tbody tr th {\n",
       "        vertical-align: top;\n",
       "    }\n",
       "\n",
       "    .dataframe thead th {\n",
       "        text-align: right;\n",
       "    }\n",
       "</style>\n",
       "<table border=\"1\" class=\"dataframe\">\n",
       "  <thead>\n",
       "    <tr style=\"text-align: right;\">\n",
       "      <th></th>\n",
       "      <th>imdb_id</th>\n",
       "      <th>budget</th>\n",
       "      <th>revenue</th>\n",
       "      <th>original_title</th>\n",
       "      <th>cast</th>\n",
       "      <th>director</th>\n",
       "      <th>tagline</th>\n",
       "      <th>overview</th>\n",
       "      <th>runtime</th>\n",
       "      <th>genres</th>\n",
       "      <th>production_companies</th>\n",
       "      <th>release_date</th>\n",
       "      <th>vote_average</th>\n",
       "      <th>release_year</th>\n",
       "    </tr>\n",
       "  </thead>\n",
       "  <tbody>\n",
       "    <tr>\n",
       "      <th>746</th>\n",
       "      <td>tt1478338</td>\n",
       "      <td>32500000</td>\n",
       "      <td>288383523</td>\n",
       "      <td>Bridesmaids</td>\n",
       "      <td>Kristen Wiig|Rose Byrne|Maya Rudolph|Wendi McL...</td>\n",
       "      <td>Paul Feig</td>\n",
       "      <td>Save the date</td>\n",
       "      <td>Annieâ€™s life is a mess. But when she finds o...</td>\n",
       "      <td>125</td>\n",
       "      <td>Romance|Comedy</td>\n",
       "      <td>Universal Pictures|Relativity Media|Apatow Pro...</td>\n",
       "      <td>4/28/2011</td>\n",
       "      <td>6.5</td>\n",
       "      <td>2011</td>\n",
       "    </tr>\n",
       "    <tr>\n",
       "      <th>1037</th>\n",
       "      <td>tt1758830</td>\n",
       "      <td>35000000</td>\n",
       "      <td>88058786</td>\n",
       "      <td>This Is 40</td>\n",
       "      <td>Paul Rudd|Leslie Mann|Jason Segel|Maude Apatow...</td>\n",
       "      <td>Judd Apatow</td>\n",
       "      <td>The sort-of sequel to 'Knocked Up'</td>\n",
       "      <td>Pete and Debbie are both about to turn 40, the...</td>\n",
       "      <td>134</td>\n",
       "      <td>Comedy</td>\n",
       "      <td>Apatow Productions</td>\n",
       "      <td>12/20/2012</td>\n",
       "      <td>5.5</td>\n",
       "      <td>2012</td>\n",
       "    </tr>\n",
       "    <tr>\n",
       "      <th>300</th>\n",
       "      <td>tt1155056</td>\n",
       "      <td>41000000</td>\n",
       "      <td>91636986</td>\n",
       "      <td>I Love You, Man</td>\n",
       "      <td>Paul Rudd|Rashida Jones|Jason Segel|Sarah Burn...</td>\n",
       "      <td>John Hamburg</td>\n",
       "      <td>Are You Man Enough To Say It?</td>\n",
       "      <td>Peter Klaven is a successful real estate agent...</td>\n",
       "      <td>105</td>\n",
       "      <td>Comedy</td>\n",
       "      <td>DreamWorks SKG|The Montecito Picture Company|D...</td>\n",
       "      <td>3/20/2009</td>\n",
       "      <td>6.4</td>\n",
       "      <td>2009</td>\n",
       "    </tr>\n",
       "    <tr>\n",
       "      <th>619</th>\n",
       "      <td>tt0985699</td>\n",
       "      <td>75000000</td>\n",
       "      <td>200276000</td>\n",
       "      <td>Valkyrie</td>\n",
       "      <td>Tom Cruise|Carice van Houten|Kenneth Branagh|B...</td>\n",
       "      <td>Bryan Singer</td>\n",
       "      <td>Many saw evil. They dared to stop it.</td>\n",
       "      <td>Wounded in Africa during World War II, Nazi Co...</td>\n",
       "      <td>121</td>\n",
       "      <td>Drama|Thriller|History|War</td>\n",
       "      <td>United Artists|Achte Babelsberg Film|Metro-Gol...</td>\n",
       "      <td>12/25/2008</td>\n",
       "      <td>6.6</td>\n",
       "      <td>2008</td>\n",
       "    </tr>\n",
       "    <tr>\n",
       "      <th>1215</th>\n",
       "      <td>tt1691917</td>\n",
       "      <td>50000000</td>\n",
       "      <td>219788712</td>\n",
       "      <td>Planes</td>\n",
       "      <td>Dane Cook|Carlos Alazraqui|Val Kilmer|Julia Lo...</td>\n",
       "      <td>Klay Hall</td>\n",
       "      <td>From above the world of Cars</td>\n",
       "      <td>Dusty is a cropdusting plane who dreams of com...</td>\n",
       "      <td>91</td>\n",
       "      <td>Animation|Family|Adventure|Comedy</td>\n",
       "      <td>Walt Disney Pictures|Walt Disney Animation Stu...</td>\n",
       "      <td>8/9/2013</td>\n",
       "      <td>5.7</td>\n",
       "      <td>2013</td>\n",
       "    </tr>\n",
       "  </tbody>\n",
       "</table>\n",
       "</div>"
      ],
      "text/plain": [
       "        imdb_id    budget    revenue   original_title  \\\n",
       "746   tt1478338  32500000  288383523      Bridesmaids   \n",
       "1037  tt1758830  35000000   88058786       This Is 40   \n",
       "300   tt1155056  41000000   91636986  I Love You, Man   \n",
       "619   tt0985699  75000000  200276000         Valkyrie   \n",
       "1215  tt1691917  50000000  219788712           Planes   \n",
       "\n",
       "                                                   cast      director  \\\n",
       "746   Kristen Wiig|Rose Byrne|Maya Rudolph|Wendi McL...     Paul Feig   \n",
       "1037  Paul Rudd|Leslie Mann|Jason Segel|Maude Apatow...   Judd Apatow   \n",
       "300   Paul Rudd|Rashida Jones|Jason Segel|Sarah Burn...  John Hamburg   \n",
       "619   Tom Cruise|Carice van Houten|Kenneth Branagh|B...  Bryan Singer   \n",
       "1215  Dane Cook|Carlos Alazraqui|Val Kilmer|Julia Lo...     Klay Hall   \n",
       "\n",
       "                                    tagline  \\\n",
       "746                           Save the date   \n",
       "1037     The sort-of sequel to 'Knocked Up'   \n",
       "300           Are You Man Enough To Say It?   \n",
       "619   Many saw evil. They dared to stop it.   \n",
       "1215           From above the world of Cars   \n",
       "\n",
       "                                               overview  runtime  \\\n",
       "746   Annieâ€™s life is a mess. But when she finds o...      125   \n",
       "1037  Pete and Debbie are both about to turn 40, the...      134   \n",
       "300   Peter Klaven is a successful real estate agent...      105   \n",
       "619   Wounded in Africa during World War II, Nazi Co...      121   \n",
       "1215  Dusty is a cropdusting plane who dreams of com...       91   \n",
       "\n",
       "                                 genres  \\\n",
       "746                      Romance|Comedy   \n",
       "1037                             Comedy   \n",
       "300                              Comedy   \n",
       "619          Drama|Thriller|History|War   \n",
       "1215  Animation|Family|Adventure|Comedy   \n",
       "\n",
       "                                   production_companies release_date  \\\n",
       "746   Universal Pictures|Relativity Media|Apatow Pro...    4/28/2011   \n",
       "1037                                 Apatow Productions   12/20/2012   \n",
       "300   DreamWorks SKG|The Montecito Picture Company|D...    3/20/2009   \n",
       "619   United Artists|Achte Babelsberg Film|Metro-Gol...   12/25/2008   \n",
       "1215  Walt Disney Pictures|Walt Disney Animation Stu...     8/9/2013   \n",
       "\n",
       "      vote_average  release_year  \n",
       "746            6.5          2011  \n",
       "1037           5.5          2012  \n",
       "300            6.4          2009  \n",
       "619            6.6          2008  \n",
       "1215           5.7          2013  "
      ]
     },
     "execution_count": 2,
     "metadata": {},
     "output_type": "execute_result"
    }
   ],
   "source": [
    "data = pd.read_csv('movie_bd_v5.csv')\n",
    "data.sample(5)"
   ]
  },
  {
   "cell_type": "code",
   "execution_count": 3,
   "metadata": {
    "colab": {},
    "colab_type": "code",
    "id": "CoYUnagMVp-C"
   },
   "outputs": [
    {
     "name": "stdout",
     "output_type": "stream",
     "text": [
      "<class 'pandas.core.frame.DataFrame'>\n",
      "RangeIndex: 1889 entries, 0 to 1888\n",
      "Data columns (total 14 columns):\n",
      " #   Column                Non-Null Count  Dtype  \n",
      "---  ------                --------------  -----  \n",
      " 0   imdb_id               1889 non-null   object \n",
      " 1   budget                1889 non-null   int64  \n",
      " 2   revenue               1889 non-null   int64  \n",
      " 3   original_title        1889 non-null   object \n",
      " 4   cast                  1889 non-null   object \n",
      " 5   director              1889 non-null   object \n",
      " 6   tagline               1889 non-null   object \n",
      " 7   overview              1889 non-null   object \n",
      " 8   runtime               1889 non-null   int64  \n",
      " 9   genres                1889 non-null   object \n",
      " 10  production_companies  1889 non-null   object \n",
      " 11  release_date          1889 non-null   object \n",
      " 12  vote_average          1889 non-null   float64\n",
      " 13  release_year          1889 non-null   int64  \n",
      "dtypes: float64(1), int64(4), object(9)\n",
      "memory usage: 140.3+ KB\n"
     ]
    }
   ],
   "source": [
    "data.info()"
   ]
  },
  {
   "cell_type": "markdown",
   "metadata": {
    "colab_type": "text",
    "id": "DTIt7ezGVp-G"
   },
   "source": [
    "# Предобработка"
   ]
  },
  {
   "cell_type": "code",
   "execution_count": 4,
   "metadata": {
    "colab": {},
    "colab_type": "code",
    "id": "jNb40DwKVp-H"
   },
   "outputs": [],
   "source": [
    "answers = {} # создадим словарь для ответов\n",
    "\n",
    "data = pd.read_csv('movie_bd_v5.csv')\n",
    "\n",
    "data['profit'] = data['revenue']-data['budget']\n",
    "# тут другие ваши предобработки колонок например:\n",
    "\n",
    "'''Добавляем функцию разделителя для данных в ячейках, где есть разделитель \"|\",\n",
    "после чего применяем функцию на некоторые колонки'''\n",
    "def separator(item):\n",
    "    item = item.split('|')\n",
    "    return item\n",
    "\n",
    "for values in ['genres', 'cast', 'production_companies']:\n",
    "    data[values] = data[values].apply(lambda x: separator(x))\n",
    "\n",
    "def season(item):\n",
    "    item = int(str(item)[:item.find('/')])\n",
    "    return item\n",
    "\n",
    "'''Добавляем дополнительные колонки, необходимые для ответов на вопросы,\n",
    "связанные с датой выходов фильмов, а также с длиной названий и описаний'''\n",
    "data['release_date'] = data['release_date'].apply(lambda x: season(x))\n",
    "\n",
    "data = data.rename(columns = {'release_date':'release_month'})\n",
    "data['overview_length'] = data['overview'].apply(lambda x: len((str(x).split())))\n",
    "data['title_length'] = data['original_title'].apply(lambda x: len(x))\n",
    "\n",
    "\n",
    "#the time given in the dataset is in string format.\n",
    "#So we need to change this in datetime format\n",
    "# ..."
   ]
  },
  {
   "cell_type": "markdown",
   "metadata": {
    "colab_type": "text",
    "id": "YxZaH-nPVp-L"
   },
   "source": [
    "# 1. У какого фильма из списка самый большой бюджет?"
   ]
  },
  {
   "cell_type": "markdown",
   "metadata": {
    "colab_type": "text",
    "id": "Nd-G5gX6Vp-M"
   },
   "source": [
    "Использовать варианты ответов в коде решения запрещено.    \n",
    "Вы думаете и в жизни у вас будут варианты ответов?)"
   ]
  },
  {
   "cell_type": "code",
   "execution_count": 5,
   "metadata": {
    "colab": {},
    "colab_type": "code",
    "id": "uVnXAY5RVp-O"
   },
   "outputs": [],
   "source": [
    "# в словарь вставляем номер вопроса и ваш ответ на него\n",
    "# Пример: \n",
    "answers['1'] = '2. Spider-Man 3 (tt0413300)'\n",
    "# запишите свой вариант ответа\n",
    "data_1 = data.loc[data['budget'] == data['budget'].max()]\n",
    "answers['1'] = str(data_1['original_title'].values[0]+' ('+data_1['imdb_id'].values[0]+')')\n",
    "# если ответили верно, можете добавить комментарий со значком \"+\""
   ]
  },
  {
   "cell_type": "code",
   "execution_count": null,
   "metadata": {
    "colab": {},
    "colab_type": "code",
    "id": "dZwb3m28Vp-S"
   },
   "outputs": [],
   "source": []
  },
  {
   "cell_type": "markdown",
   "metadata": {
    "colab_type": "text",
    "id": "K7L3nbRXVp-X"
   },
   "source": [
    "ВАРИАНТ 2"
   ]
  },
  {
   "cell_type": "code",
   "execution_count": null,
   "metadata": {
    "colab": {},
    "colab_type": "code",
    "id": "OGaoQI7rVp-X"
   },
   "outputs": [],
   "source": [
    "# можно добавлять разные варианты решения"
   ]
  },
  {
   "cell_type": "markdown",
   "metadata": {
    "colab_type": "text",
    "id": "FNRbbI3vVp-c"
   },
   "source": [
    "# 2. Какой из фильмов самый длительный (в минутах)?"
   ]
  },
  {
   "cell_type": "code",
   "execution_count": 6,
   "metadata": {
    "colab": {},
    "colab_type": "code",
    "id": "vHAoEXNTVp-d"
   },
   "outputs": [],
   "source": [
    "# думаю логику работы с этим словарем вы уже поняли, \n",
    "# по этому не буду больше его дублировать\n",
    "data_2 = data.loc[data['runtime'] == data['runtime'].max()]\n",
    "answers['2'] = str(data_2['original_title'].values[0]+' ('+data_2['imdb_id'].values[0]+')')"
   ]
  },
  {
   "cell_type": "code",
   "execution_count": null,
   "metadata": {
    "colab": {},
    "colab_type": "code",
    "id": "ot-VX2XrVp-g"
   },
   "outputs": [],
   "source": []
  },
  {
   "cell_type": "markdown",
   "metadata": {
    "colab_type": "text",
    "id": "bapLlpW8Vp-k"
   },
   "source": [
    "# 3. Какой из фильмов самый короткий (в минутах)?\n",
    "\n",
    "\n",
    "\n"
   ]
  },
  {
   "cell_type": "code",
   "execution_count": 7,
   "metadata": {
    "colab": {},
    "colab_type": "code",
    "id": "YBxaSHuAVp-l"
   },
   "outputs": [],
   "source": [
    "data_3 = data.loc[data['runtime'] == data['runtime'].min()]\n",
    "answers['3'] = str(data_3['original_title'].values[0]+' ('+data_3['imdb_id'].values[0]+')')"
   ]
  },
  {
   "cell_type": "markdown",
   "metadata": {
    "colab_type": "text",
    "id": "TfQbxbfNVp-p"
   },
   "source": [
    "# 4. Какова средняя длительность фильмов?\n"
   ]
  },
  {
   "cell_type": "code",
   "execution_count": 8,
   "metadata": {
    "colab": {},
    "colab_type": "code",
    "id": "5K6dKZYVVp-q"
   },
   "outputs": [],
   "source": [
    "answers['4'] = data['runtime'].mean()"
   ]
  },
  {
   "cell_type": "markdown",
   "metadata": {
    "colab_type": "text",
    "id": "r5TvbnT_Vp-u"
   },
   "source": [
    "# 5. Каково медианное значение длительности фильмов? "
   ]
  },
  {
   "cell_type": "code",
   "execution_count": 9,
   "metadata": {
    "colab": {},
    "colab_type": "code",
    "id": "iBROplKnVp-v"
   },
   "outputs": [],
   "source": [
    "answers['5'] = data['runtime'].median()"
   ]
  },
  {
   "cell_type": "markdown",
   "metadata": {
    "colab_type": "text",
    "id": "39P-deDSVp-y"
   },
   "source": [
    "# 6. Какой самый прибыльный фильм?\n",
    "#### Внимание! Здесь и далее под «прибылью» или «убытками» понимается разность между сборами и бюджетом фильма. (прибыль = сборы - бюджет) в нашем датасете это будет (profit = revenue - budget) "
   ]
  },
  {
   "cell_type": "code",
   "execution_count": 10,
   "metadata": {
    "colab": {},
    "colab_type": "code",
    "id": "UYZh4T9WVp-y"
   },
   "outputs": [],
   "source": [
    "# лучше код получения столбца profit вынести в Предобработку что в начале\n",
    "data_6 = data.loc[data['profit'] == data['profit'].max()]\n",
    "\n",
    "answers['6'] = str(data_6['original_title'].values[0]+' ('+data_6['imdb_id'].values[0]+')')"
   ]
  },
  {
   "cell_type": "markdown",
   "metadata": {
    "colab_type": "text",
    "id": "M99JmIX4Vp-2"
   },
   "source": [
    "# 7. Какой фильм самый убыточный? "
   ]
  },
  {
   "cell_type": "code",
   "execution_count": 11,
   "metadata": {
    "colab": {},
    "colab_type": "code",
    "id": "w-D2m4XPVp-3"
   },
   "outputs": [],
   "source": [
    "data_7 = data.loc[data['profit'] == data['profit'].min()]\n",
    "\n",
    "answers['7'] = str(data_7['original_title'].values[0]+' ('+data_7['imdb_id'].values[0]+')')"
   ]
  },
  {
   "cell_type": "markdown",
   "metadata": {
    "colab_type": "text",
    "id": "wEOM5ERVVp-6"
   },
   "source": [
    "# 8. У скольких фильмов из датасета объем сборов оказался выше бюджета?"
   ]
  },
  {
   "cell_type": "code",
   "execution_count": 12,
   "metadata": {
    "colab": {},
    "colab_type": "code",
    "id": "y00_7HD6Vp-7"
   },
   "outputs": [],
   "source": [
    "answers['8'] = len(data.loc[data['profit']>0])"
   ]
  },
  {
   "cell_type": "markdown",
   "metadata": {
    "colab_type": "text",
    "id": "xhpspA9KVp_A"
   },
   "source": [
    "# 9. Какой фильм оказался самым кассовым в 2008 году?"
   ]
  },
  {
   "cell_type": "code",
   "execution_count": 13,
   "metadata": {
    "colab": {},
    "colab_type": "code",
    "id": "MoUyQr9RVp_B"
   },
   "outputs": [],
   "source": [
    "data_9 = data.loc[data['release_year'] == 2008]\n",
    "data_9 = data_9.loc[data_9['profit'] == data_9['profit'].max()]\n",
    "\n",
    "answers['9'] = str(data_9['original_title'].values[0]+' ('+data_7['imdb_id'].values[0]+')')"
   ]
  },
  {
   "cell_type": "markdown",
   "metadata": {
    "colab_type": "text",
    "id": "Zi4hDKidVp_F"
   },
   "source": [
    "# 10. Самый убыточный фильм за период с 2012 по 2014 г. (включительно)?"
   ]
  },
  {
   "cell_type": "code",
   "execution_count": 14,
   "metadata": {
    "colab": {},
    "colab_type": "code",
    "id": "XqyRmufJVp_F"
   },
   "outputs": [],
   "source": [
    "data_10 = data.loc[(data['release_year']>=2012)&data['release_year']<=2014]\n",
    "data_10 = data_10.loc[data_10['profit'] == data_10['profit'].min()]\n",
    "\n",
    "answers['10'] = str(data_10['original_title'].values[0]+' ('+data_10['imdb_id'].values[0]+')')"
   ]
  },
  {
   "cell_type": "markdown",
   "metadata": {
    "colab_type": "text",
    "id": "EA7Sa9dkVp_I"
   },
   "source": [
    "# 11. Какого жанра фильмов больше всего?"
   ]
  },
  {
   "cell_type": "code",
   "execution_count": 15,
   "metadata": {
    "colab": {},
    "colab_type": "code",
    "id": "zsJAwJ8QVp_J"
   },
   "outputs": [],
   "source": [
    "# эту задачу тоже можно решать разными подходами, попробуй реализовать разные варианты\n",
    "# если будешь добавлять функцию - выноси ее в предобработку что в начале\n",
    "genres_list_11 = []\n",
    "\n",
    "for item in data['genres']:\n",
    "    for x in item:\n",
    "        genres_list_11.append(x)\n",
    "\n",
    "answers['11'] = max(set(genres_list_11), key = genres_list_11.count)"
   ]
  },
  {
   "cell_type": "markdown",
   "metadata": {
    "colab_type": "text",
    "id": "Ax6g2C8SVp_M"
   },
   "source": [
    "ВАРИАНТ 2"
   ]
  },
  {
   "cell_type": "code",
   "execution_count": null,
   "metadata": {
    "colab": {},
    "colab_type": "code",
    "id": "otO3SbrSVp_N"
   },
   "outputs": [],
   "source": []
  },
  {
   "cell_type": "markdown",
   "metadata": {
    "colab_type": "text",
    "id": "T9_bPWpkVp_Q"
   },
   "source": [
    "# 12. Фильмы какого жанра чаще всего становятся прибыльными? "
   ]
  },
  {
   "cell_type": "code",
   "execution_count": 16,
   "metadata": {
    "colab": {},
    "colab_type": "code",
    "id": "Tmt8MaK1Vp_R"
   },
   "outputs": [],
   "source": [
    "data_12 = data.loc[data['profit']>0]\n",
    "genres_list_12 = []\n",
    "\n",
    "for item in data_12['genres']:\n",
    "    for x in item:\n",
    "        genres_list_12.append(x)\n",
    "\n",
    "answers['12'] = max(set(genres_list_12), key = genres_list_12.count)"
   ]
  },
  {
   "cell_type": "markdown",
   "metadata": {
    "colab_type": "text",
    "id": "0F23bgsDVp_U"
   },
   "source": [
    "# 13. У какого режиссера самые большие суммарные кассовые сборы?"
   ]
  },
  {
   "cell_type": "code",
   "execution_count": 17,
   "metadata": {
    "colab": {},
    "colab_type": "code",
    "id": "K6Z3J8ygVp_X"
   },
   "outputs": [],
   "source": [
    "data_13 = data.groupby('director')['revenue'].sum().sort_values(ascending=False).head(1)\n",
    "\n",
    "answers['13'] = data_13.index[0]"
   ]
  },
  {
   "cell_type": "markdown",
   "metadata": {
    "colab_type": "text",
    "id": "PsYC9FgRVp_a"
   },
   "source": [
    "# 14. Какой режисер снял больше всего фильмов в стиле Action?"
   ]
  },
  {
   "cell_type": "code",
   "execution_count": 18,
   "metadata": {
    "colab": {},
    "colab_type": "code",
    "id": "wd2M-wHeVp_b"
   },
   "outputs": [],
   "source": [
    "data_14 = data.loc[:, ['genres', 'director']]\n",
    "data_14['director'] = data_14['director'].str.split('|')\n",
    "data_14 = data_14.explode('director', 'genres')\n",
    "data_14 = data_14.explode('genres')\n",
    "data_14 = data_14.loc[data_14['genres'] == 'Action']\n",
    "data_14 = data_14['director'].value_counts()\n",
    "\n",
    "answers['14'] = data_14.index[0]"
   ]
  },
  {
   "cell_type": "markdown",
   "metadata": {
    "colab_type": "text",
    "id": "PQ0KciD7Vp_f"
   },
   "source": [
    "# 15. Фильмы с каким актером принесли самые высокие кассовые сборы в 2012 году? "
   ]
  },
  {
   "cell_type": "code",
   "execution_count": 19,
   "metadata": {
    "colab": {},
    "colab_type": "code",
    "id": "aga62oeKVp_g"
   },
   "outputs": [],
   "source": [
    "data_15 = data[data['release_year'] == 2012]\n",
    "data_15 = data_15.explode('cast')\n",
    "data_15 = data_15.groupby('cast')['revenue'].sum().sort_values(ascending=False)\n",
    "\n",
    "answers['15'] = data_15.index[0]"
   ]
  },
  {
   "cell_type": "markdown",
   "metadata": {
    "colab_type": "text",
    "id": "mWHyyL7QVp_j"
   },
   "source": [
    "# 16. Какой актер снялся в большем количестве высокобюджетных фильмов?"
   ]
  },
  {
   "cell_type": "code",
   "execution_count": 20,
   "metadata": {
    "colab": {},
    "colab_type": "code",
    "id": "qQtmHKTFVp_k"
   },
   "outputs": [],
   "source": [
    "data_16 = data[data['budget']>data['budget'].mean()]\n",
    "data_16 = data_16.explode('cast')\n",
    "data_16 = data_16['cast'].value_counts()\n",
    "\n",
    "answers['16'] = data_16.index[0]"
   ]
  },
  {
   "cell_type": "markdown",
   "metadata": {
    "colab_type": "text",
    "id": "NIh6AaW5Vp_n"
   },
   "source": [
    "# 17. В фильмах какого жанра больше всего снимался Nicolas Cage? "
   ]
  },
  {
   "cell_type": "code",
   "execution_count": 21,
   "metadata": {
    "colab": {},
    "colab_type": "code",
    "id": "H74SJDIBVp_n"
   },
   "outputs": [],
   "source": [
    "data_17 = data\n",
    "data_17 = data_17.explode('genres')\n",
    "data_17 = data_17.explode('cast')\n",
    "data_17 = data_17.loc[data_17['cast'] == 'Nicolas Cage']\n",
    "data_17 = data_17['genres'].value_counts()\n",
    "\n",
    "answers['17'] = str(data_17.index[0])"
   ]
  },
  {
   "cell_type": "markdown",
   "metadata": {
    "colab_type": "text",
    "id": "RqOmPRfWVp_q"
   },
   "source": [
    "# 18. Самый убыточный фильм от Paramount Pictures"
   ]
  },
  {
   "cell_type": "code",
   "execution_count": 22,
   "metadata": {
    "colab": {},
    "colab_type": "code",
    "id": "9E_B0Y96Vp_r"
   },
   "outputs": [],
   "source": [
    "data_18 = data\n",
    "data_18 = data_18.explode('production_companies')\n",
    "data_18 = data_18.loc[(data_18['production_companies'] == 'Paramount Pictures')]\n",
    "data_18 = data_18.loc[data_18['profit'] == data_18['profit'].min()]\n",
    "\n",
    "answers['18'] = data_18['original_title'].values[0]"
   ]
  },
  {
   "cell_type": "markdown",
   "metadata": {
    "colab_type": "text",
    "id": "vS8Ur6ddVp_u"
   },
   "source": [
    "# 19. Какой год стал самым успешным по суммарным кассовым сборам?"
   ]
  },
  {
   "cell_type": "code",
   "execution_count": 23,
   "metadata": {
    "colab": {},
    "colab_type": "code",
    "id": "Dnbt4GdIVp_v"
   },
   "outputs": [],
   "source": [
    "data_19 = data.groupby('release_year')['revenue'].sum().sort_values(ascending=False)\n",
    "\n",
    "answers['19'] = data_19.index[0]"
   ]
  },
  {
   "cell_type": "markdown",
   "metadata": {
    "colab_type": "text",
    "id": "JAzJh4QAVp_z"
   },
   "source": [
    "# 20. Какой самый прибыльный год для студии Warner Bros?"
   ]
  },
  {
   "cell_type": "code",
   "execution_count": 24,
   "metadata": {
    "colab": {},
    "colab_type": "code",
    "id": "wgVu02DEVp_0"
   },
   "outputs": [],
   "source": [
    "data_20 = data.explode('production_companies')\n",
    "data_20 = data_20.loc[data_20['production_companies'].str.contains('Warner')]\n",
    "data_20 = data_20.groupby('release_year')['profit'].sum().sort_values(ascending=False)\n",
    "\n",
    "answers['20'] = data_20.index[0]"
   ]
  },
  {
   "cell_type": "markdown",
   "metadata": {
    "colab_type": "text",
    "id": "8Im1S2HRVp_4"
   },
   "source": [
    "# 21. В каком месяце за все годы суммарно вышло больше всего фильмов?"
   ]
  },
  {
   "cell_type": "code",
   "execution_count": 25,
   "metadata": {
    "colab": {},
    "colab_type": "code",
    "id": "lev6TH7gVp_4"
   },
   "outputs": [],
   "source": [
    "data_21 = data['release_month'].value_counts()\n",
    "data_21_result = data_21.index[0]\n",
    "\n",
    "months_rus = ['Январь', 'Февраль',\n",
    "              'Март', 'Апрель', 'Май',\n",
    "              'Июнь', 'Июль', 'Август',\n",
    "              'Сентябрь', 'Октябрь', 'Ноябрь',\n",
    "              'Декабрь']\n",
    "\n",
    "answers['21'] = months_rus[int(data_21_result)-1]"
   ]
  },
  {
   "cell_type": "markdown",
   "metadata": {
    "colab_type": "text",
    "id": "uAJsZ_NeVp_7"
   },
   "source": [
    "# 22. Сколько суммарно вышло фильмов летом? (за июнь, июль, август)"
   ]
  },
  {
   "cell_type": "code",
   "execution_count": 26,
   "metadata": {
    "colab": {},
    "colab_type": "code",
    "id": "Aa-hEREoVp_8"
   },
   "outputs": [],
   "source": [
    "answers['22'] = len(data.loc[(data['release_month'] >= 6)&(data['release_month'] <= 8)])"
   ]
  },
  {
   "cell_type": "markdown",
   "metadata": {
    "colab_type": "text",
    "id": "G94ppOY1VqAA"
   },
   "source": [
    "# 23. Для какого режиссера зима – самое продуктивное время года? "
   ]
  },
  {
   "cell_type": "code",
   "execution_count": 27,
   "metadata": {
    "colab": {},
    "colab_type": "code",
    "id": "RhNTsamuVqAB"
   },
   "outputs": [],
   "source": [
    "data_23 = data.loc[(data['release_month'] == 1)|(data['release_month'] == 2)|(data['release_month'] == 12)]\n",
    "data_23 = data_23.groupby('director')['release_month'].sum().sort_values(ascending=False)\n",
    "\n",
    "answers['23'] = data_23.index[0]"
   ]
  },
  {
   "cell_type": "markdown",
   "metadata": {
    "colab_type": "text",
    "id": "RBo0JVjVVqAF"
   },
   "source": [
    "# 24. Какая студия дает самые длинные названия своим фильмам по количеству символов?"
   ]
  },
  {
   "cell_type": "code",
   "execution_count": 28,
   "metadata": {
    "colab": {},
    "colab_type": "code",
    "id": "QRGS8L0iVqAG"
   },
   "outputs": [],
   "source": [
    "data_24 = data.explode('production_companies')\n",
    "data_24 = data_24.groupby(data_24['production_companies'])['title_length'].mean().sort_values(ascending=False)\n",
    "\n",
    "answers['24'] = data_24.index[0]"
   ]
  },
  {
   "cell_type": "markdown",
   "metadata": {
    "colab_type": "text",
    "id": "9G0hbvR7VqAK"
   },
   "source": [
    "# 25. Описание фильмов какой студии в среднем самые длинные по количеству слов?"
   ]
  },
  {
   "cell_type": "code",
   "execution_count": 29,
   "metadata": {
    "colab": {},
    "colab_type": "code",
    "id": "Ge2GsLNxVqAK"
   },
   "outputs": [],
   "source": [
    "data_25 = data.explode('production_companies')\n",
    "data_25 = data_25.groupby(data_25['production_companies'])['overview_length'].mean().sort_values(ascending=False)\n",
    "\n",
    "answers['25'] = data_25.index[0]"
   ]
  },
  {
   "cell_type": "markdown",
   "metadata": {
    "colab_type": "text",
    "id": "FJ1AFt90VqAP"
   },
   "source": [
    "# 26. Какие фильмы входят в 1 процент лучших по рейтингу? \n",
    "по vote_average"
   ]
  },
  {
   "cell_type": "code",
   "execution_count": null,
   "metadata": {
    "colab": {},
    "colab_type": "code",
    "id": "8qmJVq4CVqAQ"
   },
   "outputs": [],
   "source": [
    "data_26 = data.loc[data['vote_average']>=data['vote_average'].quantile(0.99)]\n",
    "data_26 = data_26.sort_values(by='vote_average', ascending=False)\n",
    "\n",
    "answers['26'] = data_26['original_title']"
   ]
  },
  {
   "cell_type": "markdown",
   "metadata": {
    "colab_type": "text",
    "id": "MdXsUXbCVqAV"
   },
   "source": [
    "# 27. Какие актеры чаще всего снимаются в одном фильме вместе?\n"
   ]
  },
  {
   "cell_type": "code",
   "execution_count": 34,
   "metadata": {},
   "outputs": [],
   "source": [
    "'''Создаём датафрейм с двумя колонкам: названия и каст.\n",
    "Добавляем колонку \"количество ролей в базе данных\"\n",
    "Каст затем эксплоудим.\n",
    "Сортируем каст по количеству фильмов в порядке уменьшения (что позволит отсекать больше строк при проверке)\n",
    "и формируем список с этими данными.\n",
    "Эти данные дальше будут фильтроваться.\n",
    "\n",
    "Подход следующий:\n",
    "1) берём первое имя в касте\n",
    "2) берём следующее имя в касте\n",
    "3) отфильтровываем датафрейм, оставляя только совместные работы в столбце с названиями фильмов\n",
    "4) определяем максимальную частоту совместной работы (по количеству уникальных названий фильмов)\n",
    "5) убираем из датафрейма всех актёров, которые снимались меньше, чем максимальная частота\n",
    "6) убираем первое имя\n",
    "6) повторяем'''\n",
    "\n",
    "data_27 = data[['original_title', 'cast']].explode('cast')\n",
    "data_27['frequency'] = data_27['cast'].map(data_27['cast'].value_counts())\n",
    "data_27 = data_27.sort_values(by='frequency', ascending=False)\n",
    "data_27_cast = [*data_27['cast'].unique()]\n",
    "data_27_cast = [str(item) for item in data_27_cast]\n",
    "max_pair = 0\n",
    "max_pair_names = ()\n",
    "\n",
    "for name_1 in data_27_cast:\n",
    "    for name_2 in data_27_cast:\n",
    "        if name_1 == name_2 or (name_1 in data_27['cast'] == False) or (name_2 in data_27['cast'] == False):\n",
    "            continue\n",
    "        else:\n",
    "            data_27_working = data_27.loc[(data_27['cast'] == name_1)|(data_27['cast'] == name_2)]\n",
    "            data_27_working = data_27_working[data_27_working.duplicated('original_title', keep=False)]\n",
    "            result = data_27_working['original_title'].nunique()\n",
    "            if max_pair < result:\n",
    "                max_pair = result\n",
    "                max_pair_names = (str(name_1), str(name_2))\n",
    "                data_27 = data_27.loc[data_27['frequency'] > max_pair]\n",
    "    data_27 = data_27.loc[data_27['cast'] != name_1]\n",
    "    if len(data_27) == 0:\n",
    "        break\n",
    "                                      \n",
    "answers['27'] = max_pair_names"
   ]
  },
  {
   "cell_type": "markdown",
   "metadata": {
    "colab_type": "text",
    "id": "4ymnxEVoVqAW"
   },
   "source": [
    "ВАРИАНТ 2"
   ]
  },
  {
   "cell_type": "code",
   "execution_count": null,
   "metadata": {},
   "outputs": [],
   "source": []
  },
  {
   "cell_type": "markdown",
   "metadata": {
    "colab_type": "text",
    "id": "U0nONFnGVqAX"
   },
   "source": [
    "# Submission"
   ]
  },
  {
   "cell_type": "code",
   "execution_count": 35,
   "metadata": {
    "colab": {},
    "colab_type": "code",
    "id": "IfcaRO9-VqAX",
    "outputId": "0f132912-32bb-4196-c98c-abfbc4ad5a5f"
   },
   "outputs": [
    {
     "data": {
      "text/plain": [
       "{'1': 'Pirates of the Caribbean: On Stranger Tides (tt1298650)',\n",
       " '2': 'Gods and Generals (tt0279111)',\n",
       " '3': 'Winnie the Pooh (tt1449283)',\n",
       " '4': 109.6585494970884,\n",
       " '5': 107.0,\n",
       " '6': 'Avatar (tt0499549)',\n",
       " '7': 'The Lone Ranger (tt1210819)',\n",
       " '8': 1478,\n",
       " '9': 'The Dark Knight (tt1210819)',\n",
       " '10': 'The Lone Ranger (tt1210819)',\n",
       " '11': 'Drama',\n",
       " '12': 'Drama',\n",
       " '13': 'Peter Jackson',\n",
       " '14': 'Robert Rodriguez',\n",
       " '15': 'Chris Hemsworth',\n",
       " '16': 'Matt Damon',\n",
       " '17': 'Action',\n",
       " '18': 'K-19: The Widowmaker',\n",
       " '19': 2015,\n",
       " '20': 2014,\n",
       " '21': 'Сентябрь',\n",
       " '22': 450,\n",
       " '23': 'Peter Jackson',\n",
       " '24': 'Four By Two Productions',\n",
       " '25': 'Midnight Picture Show',\n",
       " '26': 599                                       The Dark Knight\n",
       " 9                                              Inside Out\n",
       " 34                                                   Room\n",
       " 118                                          Interstellar\n",
       " 125                                    The Imitation Game\n",
       " 370                                             Inception\n",
       " 1191                                     12 Years a Slave\n",
       " 1183                              The Wolf of Wall Street\n",
       " 1081        The Lord of the Rings: The Return of the King\n",
       " 872                                           The Pianist\n",
       " 1800                                              Memento\n",
       " 119                               Guardians of the Galaxy\n",
       " 138                              The Grand Budapest Hotel\n",
       " 128                                             Gone Girl\n",
       " 283                                            Mr. Nobody\n",
       " 1688                                  There Will Be Blood\n",
       " 1563                Eternal Sunshine of the Spotless Mind\n",
       " 1444                                         The Prestige\n",
       " 1213                                   Dallas Buyers Club\n",
       " 1205                                            Prisoners\n",
       " 124                                            Big Hero 6\n",
       " 1188                                                  Her\n",
       " 316                                              3 Idiots\n",
       " 863                 The Lord of the Rings: The Two Towers\n",
       " 155                              The Theory of Everything\n",
       " 28                                              Spotlight\n",
       " 177                                The Fault in Our Stars\n",
       " 496     The Lord of the Rings: The Fellowship of the Ring\n",
       " Name: original_title, dtype: object,\n",
       " '27': ('Emma Watson', 'Daniel Radcliffe')}"
      ]
     },
     "execution_count": 35,
     "metadata": {},
     "output_type": "execute_result"
    }
   ],
   "source": [
    "# в конце можно посмотреть свои ответы к каждому вопросу\n",
    "answers"
   ]
  },
  {
   "cell_type": "code",
   "execution_count": 36,
   "metadata": {
    "colab": {},
    "colab_type": "code",
    "id": "SiRmHPl8VqAd"
   },
   "outputs": [
    {
     "data": {
      "text/plain": [
       "27"
      ]
     },
     "execution_count": 36,
     "metadata": {},
     "output_type": "execute_result"
    }
   ],
   "source": [
    "# и убедиться что ни чего не пропустил)\n",
    "len(answers)"
   ]
  },
  {
   "cell_type": "code",
   "execution_count": null,
   "metadata": {
    "colab": {},
    "colab_type": "code",
    "id": "uCfuTkRbVqAg"
   },
   "outputs": [],
   "source": []
  },
  {
   "cell_type": "code",
   "execution_count": null,
   "metadata": {
    "colab": {},
    "colab_type": "code",
    "id": "Vwx3NrkSVqAl"
   },
   "outputs": [],
   "source": []
  }
 ],
 "metadata": {
  "colab": {
   "name": "Copy of [SF-DST] Movies IMBD v4.1 TEMPLATE.ipynb",
   "provenance": []
  },
  "kernelspec": {
   "display_name": "Python 3",
   "language": "python",
   "name": "python3"
  },
  "language_info": {
   "codemirror_mode": {
    "name": "ipython",
    "version": 3
   },
   "file_extension": ".py",
   "mimetype": "text/x-python",
   "name": "python",
   "nbconvert_exporter": "python",
   "pygments_lexer": "ipython3",
   "version": "3.8.5"
  }
 },
 "nbformat": 4,
 "nbformat_minor": 1
}
