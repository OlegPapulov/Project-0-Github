{
 "cells": [
  {
   "cell_type": "markdown",
   "metadata": {},
   "source": [
    "#### Загрузка библиотек"
   ]
  },
  {
   "cell_type": "code",
   "execution_count": 469,
   "metadata": {},
   "outputs": [],
   "source": [
    "import requests\n",
    "from bs4 import BeautifulSoup\n",
    "import pandas as pd"
   ]
  },
  {
   "cell_type": "code",
   "execution_count": 470,
   "metadata": {},
   "outputs": [],
   "source": [
    "import numpy as np"
   ]
  },
  {
   "cell_type": "code",
   "execution_count": 471,
   "metadata": {},
   "outputs": [],
   "source": [
    "from tqdm import tqdm\n",
    "tqdm.pandas()"
   ]
  },
  {
   "cell_type": "code",
   "execution_count": 472,
   "metadata": {},
   "outputs": [],
   "source": [
    "from sklearn.linear_model import LinearRegression\n",
    "from sklearn.metrics import mean_absolute_percentage_error as mape"
   ]
  },
  {
   "cell_type": "code",
   "execution_count": 473,
   "metadata": {},
   "outputs": [],
   "source": [
    "from datetime import datetime\n",
    "import statsmodels.api as sm"
   ]
  },
  {
   "cell_type": "code",
   "execution_count": 474,
   "metadata": {},
   "outputs": [],
   "source": [
    "from sklearn.ensemble import RandomForestRegressor\n",
    "from sklearn.model_selection import GridSearchCV\n",
    "import warnings\n",
    "warnings.filterwarnings('ignore')"
   ]
  },
  {
   "cell_type": "code",
   "execution_count": 475,
   "metadata": {},
   "outputs": [],
   "source": [
    "from catboost import CatBoostRegressor"
   ]
  },
  {
   "cell_type": "markdown",
   "metadata": {},
   "source": [
    "#### Подготовка датасета для обучения"
   ]
  },
  {
   "cell_type": "code",
   "execution_count": null,
   "metadata": {},
   "outputs": [],
   "source": [
    "response = requests.get('https://auto.ru/cars/all/')\n",
    "response.encoding = 'utf-8'\n",
    "result = BeautifulSoup(response.text, 'html.parser')"
   ]
  },
  {
   "cell_type": "code",
   "execution_count": null,
   "metadata": {},
   "outputs": [],
   "source": [
    "def string_to_dict(string): ### функция для трансформации строкового представления словаря в собственно словарь\n",
    "    result = {}\n",
    "    string = string[1:-1]\n",
    "#     print(string)\n",
    "    while len(string) > 0:\n",
    "#         print(len(string))\n",
    "        find_comma = string.find(',')\n",
    "        find_colon = string.find(':')\n",
    "        find_brackets = string.find('{')\n",
    "#         print(find_comma, find_colon)\n",
    "        if find_brackets < find_comma:\n",
    "            result[string[:find_colon-1]] = string[find_colon+1:string.find('}')+1]\n",
    "            thr = string.find('}') + 1\n",
    "        else:\n",
    "#             print(string[1:find_colon-1])\n",
    "            if find_colon+1 == '\\\"':\n",
    "                if 'description' not in string[1:find_colon-1]:\n",
    "                    result[string[1:find_colon-1]] = string[find_colon+1+1:find_comma-1]\n",
    "                    thr = find_comma\n",
    "                else:\n",
    "                    result[string[1:find_colon-1]] = string[find_colon+1+1:string.find(',\"numberOfDoors\":')]\n",
    "                    thr = string.find(',\"numberOfDoors\":')\n",
    "            else:\n",
    "                if 'description' not in string[1:find_colon-1]:\n",
    "                    result[string[1:find_colon-1]] = string[find_colon+1:find_comma]\n",
    "                    thr = find_comma\n",
    "                else:\n",
    "                    result[string[1:find_colon-1]] = string[find_colon+1:string.find(',\"numberOfDoors\":')]\n",
    "                    thr = string.find(',\"numberOfDoors\":')            \n",
    "#         print(result)\n",
    "        string = string[thr+1:]\n",
    "#         print(string)\n",
    "#         print(len(string))\n",
    "    return result"
   ]
  },
  {
   "cell_type": "code",
   "execution_count": null,
   "metadata": {},
   "outputs": [],
   "source": [
    "### наполнение учебного датасета\n",
    "response = requests.get('https://auto.ru/cars/all/')\n",
    "response.encoding = 'utf-8'\n",
    "result = BeautifulSoup(response.text, 'html.parser')\n",
    "columns = [i for i in string_to_dict(str(result.select('script')[0])[len('<script type=\\\"application/ld+json\\\">'):-len('</script>')].replace('\\',\"', '').replace('\\\"https://','')).keys()]\n",
    "df = pd.DataFrame(columns = columns)\n",
    "# print(columns)\n",
    "for i in tqdm(range(1, 100)):\n",
    "#     print('Page', i)\n",
    "    url = 'https://auto.ru/cars/all/?page='+str(i)\n",
    "    response = requests.get(url)\n",
    "    response.encoding = 'utf-8'\n",
    "    result = BeautifulSoup(response.text, 'html.parser')    \n",
    "    for j in range(len(result.select('script'))):\n",
    "#         print(f'Page {i}, Ad {j}')\n",
    "        string = str(result.select('script')[j])[len('<script type=\\\"application/ld+json\\\">'):-len('</script>')].replace('\\',\"', '').replace('\\\"https://','')\n",
    "#         print(string)\n",
    "        if 'numberOfDoors' not in string:\n",
    "            continue\n",
    "        else:\n",
    "            auto_dict = {}\n",
    "            for k in range(len(columns)):                \n",
    "                ###\n",
    "#                 print(k, len(columns))\n",
    "                if k < len(columns) - 1:\n",
    "#                     print(columns[k], columns[k+1])\n",
    "#                     print(string[1+len(columns[k])+2:string.find(str(columns[k+1])+'\":')-2])\n",
    "                    auto_dict[columns[k]] = string[1+len(columns[k])+2:string.find(str(columns[k+1])+'\":')-2]\n",
    "                    string = string[string.find(str(columns[k+1])+'\":')-1:]\n",
    "                else:\n",
    "                    auto_dict[columns[k]] = string[1+len(columns[k])+2:]\n",
    "#             print(auto_dict)\n",
    "#             display(pd.DataFrame.from_dict(auto_dict, orient='index').T)\n",
    "            df = pd.concat([df, pd.DataFrame.from_dict(auto_dict, orient='index').T])"
   ]
  },
  {
   "cell_type": "code",
   "execution_count": 477,
   "metadata": {},
   "outputs": [],
   "source": [
    "def micro_string_to_dict(string): ### дополняющая функция для трансформации строковых представлений вложенных словарей\n",
    "    result = {}\n",
    "    string = string[1:-1]\n",
    "#     print(string)\n",
    "    while len(string) > 1:\n",
    "#         print(len(string))\n",
    "        find_comma = string.find(',')\n",
    "        find_colon = string.find(':')\n",
    "        if string[string.rfind('\",\"')+3:string.rfind(':')] not in string[1:find_colon-1]:\n",
    "            result[string[1:find_colon-1]] = string[find_colon+1:find_comma]\n",
    "            thr = find_comma\n",
    "        else:\n",
    "            result[string[1:find_colon-1]] = string[find_colon+1:]\n",
    "            thr = -2\n",
    "        if thr == -1:\n",
    "            thr = -2\n",
    "#         print('Threshold', thr)\n",
    "#         print('resulting_dict', result)           \n",
    "#         print(result)\n",
    "#         print(thr)\n",
    "        string = string[thr+1:]\n",
    "#         print(string)\n",
    "#         print(len(string))\n",
    "    return result"
   ]
  },
  {
   "cell_type": "code",
   "execution_count": 596,
   "metadata": {},
   "outputs": [],
   "source": [
    "df = pd.read_csv('project_dataframe.csv')"
   ]
  },
  {
   "cell_type": "code",
   "execution_count": 597,
   "metadata": {},
   "outputs": [],
   "source": [
    "df = df.drop(columns=['\"offers'])"
   ]
  },
  {
   "cell_type": "code",
   "execution_count": 598,
   "metadata": {},
   "outputs": [],
   "source": [
    "df = df.rename(columns={'name':'vehicleName'})"
   ]
  },
  {
   "cell_type": "code",
   "execution_count": 599,
   "metadata": {
    "scrolled": true
   },
   "outputs": [
    {
     "name": "stdout",
     "output_type": "stream",
     "text": [
      "@context\n"
     ]
    },
    {
     "name": "stderr",
     "output_type": "stream",
     "text": [
      "100%|██████████████████████████████████████████████████████████████████████████| 3532/3532 [00:00<00:00, 585521.59it/s]\n"
     ]
    },
    {
     "name": "stdout",
     "output_type": "stream",
     "text": [
      "@type\n"
     ]
    },
    {
     "name": "stderr",
     "output_type": "stream",
     "text": [
      "100%|██████████████████████████████████████████████████████████████████████████| 3532/3532 [00:00<00:00, 708376.69it/s]\n"
     ]
    },
    {
     "name": "stdout",
     "output_type": "stream",
     "text": [
      "vehicleName\n"
     ]
    },
    {
     "name": "stderr",
     "output_type": "stream",
     "text": [
      "100%|██████████████████████████████████████████████████████████████████████████| 3532/3532 [00:00<00:00, 885386.19it/s]\n"
     ]
    },
    {
     "name": "stdout",
     "output_type": "stream",
     "text": [
      "bodyType\n"
     ]
    },
    {
     "name": "stderr",
     "output_type": "stream",
     "text": [
      "100%|██████████████████████████████████████████████████████████████████████████| 3532/3532 [00:00<00:00, 589975.38it/s]\n"
     ]
    },
    {
     "name": "stdout",
     "output_type": "stream",
     "text": [
      "brand\n"
     ]
    },
    {
     "name": "stderr",
     "output_type": "stream",
     "text": [
      "100%|█████████████████████████████████████████████████████████████████████████| 3532/3532 [00:00<00:00, 1180609.00it/s]\n"
     ]
    },
    {
     "name": "stdout",
     "output_type": "stream",
     "text": [
      "color\n"
     ]
    },
    {
     "name": "stderr",
     "output_type": "stream",
     "text": [
      "100%|██████████████████████████████████████████████████████████████████████████| 3532/3532 [00:00<00:00, 708546.09it/s]\n"
     ]
    },
    {
     "name": "stdout",
     "output_type": "stream",
     "text": [
      "fuelType\n"
     ]
    },
    {
     "name": "stderr",
     "output_type": "stream",
     "text": [
      "100%|██████████████████████████████████████████████████████████████████████████| 3532/3532 [00:00<00:00, 877259.53it/s]\n"
     ]
    },
    {
     "name": "stdout",
     "output_type": "stream",
     "text": [
      "image\n"
     ]
    },
    {
     "name": "stderr",
     "output_type": "stream",
     "text": [
      "100%|███████████████████████████████████████████████████████████████████████████| 3532/3532 [00:00<00:00, 68024.38it/s]\n"
     ]
    },
    {
     "name": "stdout",
     "output_type": "stream",
     "text": [
      "modelDate\n"
     ]
    },
    {
     "name": "stderr",
     "output_type": "stream",
     "text": [
      "100%|██████████████████████████████████████████████████████████████████████████| 3532/3532 [00:00<00:00, 589505.84it/s]\n"
     ]
    },
    {
     "name": "stdout",
     "output_type": "stream",
     "text": [
      "description\n"
     ]
    },
    {
     "name": "stderr",
     "output_type": "stream",
     "text": [
      "100%|██████████████████████████████████████████████████████████████████████████| 3532/3532 [00:00<00:00, 703098.33it/s]\n"
     ]
    },
    {
     "name": "stdout",
     "output_type": "stream",
     "text": [
      "numberOfDoors\n"
     ]
    },
    {
     "name": "stderr",
     "output_type": "stream",
     "text": [
      "100%|██████████████████████████████████████████████████████████████████████████| 3532/3532 [00:00<00:00, 585151.55it/s]\n"
     ]
    },
    {
     "name": "stdout",
     "output_type": "stream",
     "text": [
      "productionDate\n"
     ]
    },
    {
     "name": "stderr",
     "output_type": "stream",
     "text": [
      "100%|██████████████████████████████████████████████████████████████████████████| 3532/3532 [00:00<00:00, 703098.33it/s]\n"
     ]
    },
    {
     "name": "stdout",
     "output_type": "stream",
     "text": [
      "vehicleConfiguration\n"
     ]
    },
    {
     "name": "stderr",
     "output_type": "stream",
     "text": [
      "100%|██████████████████████████████████████████████████████████████████████████| 3532/3532 [00:00<00:00, 885544.97it/s]\n"
     ]
    },
    {
     "name": "stdout",
     "output_type": "stream",
     "text": [
      "vehicleTransmission\n"
     ]
    },
    {
     "name": "stderr",
     "output_type": "stream",
     "text": [
      "100%|██████████████████████████████████████████████████████████████████████████| 3532/3532 [00:00<00:00, 708207.37it/s]\n"
     ]
    },
    {
     "name": "stdout",
     "output_type": "stream",
     "text": [
      "vehicleEngine\n"
     ]
    },
    {
     "name": "stderr",
     "output_type": "stream",
     "text": [
      "100%|██████████████████████████████████████████████████████████████████████████| 3532/3532 [00:00<00:00, 122023.65it/s]\n"
     ]
    }
   ],
   "source": [
    "df.columns = [i.replace('\"', '') for i in df.columns]\n",
    "for i in df.columns:\n",
    "    print(i)\n",
    "    df[i] = df[i].progress_apply(lambda x: micro_string_to_dict(x) if (isinstance(x, int) == False and isinstance(x, dict) == False and x[0] == '{') else x)"
   ]
  },
  {
   "cell_type": "code",
   "execution_count": 600,
   "metadata": {},
   "outputs": [],
   "source": [
    "df = df.drop(columns=[i for i in ['@context', '@type', 'offers'] if i in df.columns])"
   ]
  },
  {
   "cell_type": "code",
   "execution_count": 601,
   "metadata": {},
   "outputs": [],
   "source": [
    "image_columns = [i for i in df.at[0, 'image'].keys()]\n",
    "engine_columns = [i for i in df.at[0, 'vehicleEngine'].keys()]"
   ]
  },
  {
   "cell_type": "code",
   "execution_count": 602,
   "metadata": {},
   "outputs": [],
   "source": [
    "for i in image_columns:\n",
    "    if i in ['@context', '@type']:\n",
    "        continue\n",
    "    elif i not in df.columns:\n",
    "        df[i] = df['image'].apply(lambda x: x[i].replace('\\xa0', ' '))\n",
    "    else:\n",
    "        df['image_'+str(i)] = df['image'].apply(lambda x: x[i].replace('\\xa0', ' '))\n",
    "df = df.drop(columns=[i for i in ['@context', '@type', 'offers'] if i in df.columns])\n",
    "df = df"
   ]
  },
  {
   "cell_type": "code",
   "execution_count": 603,
   "metadata": {},
   "outputs": [],
   "source": [
    "for i in engine_columns:\n",
    "    if i in ['@context', '@type']:\n",
    "        continue\n",
    "    elif i not in df.columns:\n",
    "        df[i] = df['vehicleEngine'].apply(lambda x: x[i].replace('\\xa0', ' '))\n",
    "    else:\n",
    "        df['engine_'+str(i)] = df['vehicleEngine'].apply(lambda x: x[i].replace('\\xa0', ' '))\n",
    "df = df.drop(columns=[i for i in ['@context', '@type', 'offers'] if i in df.columns])"
   ]
  },
  {
   "cell_type": "code",
   "execution_count": 604,
   "metadata": {},
   "outputs": [],
   "source": [
    "df=df.drop(columns=['image', 'vehicleEngine'])"
   ]
  },
  {
   "cell_type": "code",
   "execution_count": 605,
   "metadata": {
    "scrolled": true
   },
   "outputs": [
    {
     "name": "stdout",
     "output_type": "stream",
     "text": [
      "vehicleName\n"
     ]
    },
    {
     "name": "stderr",
     "output_type": "stream",
     "text": [
      "100%|██████████████████████████████████████████████████████████████████████████| 3532/3532 [00:00<00:00, 590469.20it/s]\n"
     ]
    },
    {
     "name": "stdout",
     "output_type": "stream",
     "text": [
      "bodyType\n"
     ]
    },
    {
     "name": "stderr",
     "output_type": "stream",
     "text": [
      "100%|██████████████████████████████████████████████████████████████████████████| 3532/3532 [00:00<00:00, 590633.99it/s]\n"
     ]
    },
    {
     "name": "stdout",
     "output_type": "stream",
     "text": [
      "brand\n"
     ]
    },
    {
     "name": "stderr",
     "output_type": "stream",
     "text": [
      "100%|██████████████████████████████████████████████████████████████████████████| 3532/3532 [00:00<00:00, 876429.14it/s]\n"
     ]
    },
    {
     "name": "stdout",
     "output_type": "stream",
     "text": [
      "color\n"
     ]
    },
    {
     "name": "stderr",
     "output_type": "stream",
     "text": [
      "100%|██████████████████████████████████████████████████████████████████████████| 3532/3532 [00:00<00:00, 586843.67it/s]\n"
     ]
    },
    {
     "name": "stdout",
     "output_type": "stream",
     "text": [
      "fuelType\n"
     ]
    },
    {
     "name": "stderr",
     "output_type": "stream",
     "text": [
      "100%|██████████████████████████████████████████████████████████████████████████| 3532/3532 [00:00<00:00, 877675.32it/s]\n"
     ]
    },
    {
     "name": "stdout",
     "output_type": "stream",
     "text": [
      "modelDate\n"
     ]
    },
    {
     "name": "stderr",
     "output_type": "stream",
     "text": [
      "100%|██████████████████████████████████████████████████████████████████████████| 3532/3532 [00:00<00:00, 586425.53it/s]\n"
     ]
    },
    {
     "name": "stdout",
     "output_type": "stream",
     "text": [
      "description\n"
     ]
    },
    {
     "name": "stderr",
     "output_type": "stream",
     "text": [
      "100%|██████████████████████████████████████████████████████████████████████████| 3532/3532 [00:00<00:00, 196747.26it/s]\n"
     ]
    },
    {
     "name": "stdout",
     "output_type": "stream",
     "text": [
      "numberOfDoors\n"
     ]
    },
    {
     "name": "stderr",
     "output_type": "stream",
     "text": [
      "100%|██████████████████████████████████████████████████████████████████████████| 3532/3532 [00:00<00:00, 709904.24it/s]\n"
     ]
    },
    {
     "name": "stdout",
     "output_type": "stream",
     "text": [
      "productionDate\n"
     ]
    },
    {
     "name": "stderr",
     "output_type": "stream",
     "text": [
      "100%|██████████████████████████████████████████████████████████████████████████| 3532/3532 [00:00<00:00, 708275.09it/s]\n"
     ]
    },
    {
     "name": "stdout",
     "output_type": "stream",
     "text": [
      "vehicleConfiguration\n"
     ]
    },
    {
     "name": "stderr",
     "output_type": "stream",
     "text": [
      "100%|██████████████████████████████████████████████████████████████████████████| 3532/3532 [00:00<00:00, 707970.45it/s]\n"
     ]
    },
    {
     "name": "stdout",
     "output_type": "stream",
     "text": [
      "vehicleTransmission\n"
     ]
    },
    {
     "name": "stderr",
     "output_type": "stream",
     "text": [
      "100%|██████████████████████████████████████████████████████████████████████████| 3532/3532 [00:00<00:00, 885650.85it/s]\n"
     ]
    },
    {
     "name": "stdout",
     "output_type": "stream",
     "text": [
      "author\n"
     ]
    },
    {
     "name": "stderr",
     "output_type": "stream",
     "text": [
      "100%|██████████████████████████████████████████████████████████████████████████| 3532/3532 [00:00<00:00, 589975.38it/s]\n"
     ]
    },
    {
     "name": "stdout",
     "output_type": "stream",
     "text": [
      "contentUrl\n"
     ]
    },
    {
     "name": "stderr",
     "output_type": "stream",
     "text": [
      "100%|██████████████████████████████████████████████████████████████████████████| 3532/3532 [00:00<00:00, 505744.97it/s]\n"
     ]
    },
    {
     "name": "stdout",
     "output_type": "stream",
     "text": [
      "datePublished\n"
     ]
    },
    {
     "name": "stderr",
     "output_type": "stream",
     "text": [
      "100%|██████████████████████████████████████████████████████████████████████████| 3532/3532 [00:00<00:00, 701500.22it/s]\n"
     ]
    },
    {
     "name": "stdout",
     "output_type": "stream",
     "text": [
      "image_description\n"
     ]
    },
    {
     "name": "stderr",
     "output_type": "stream",
     "text": [
      "100%|██████████████████████████████████████████████████████████████████████████| 3532/3532 [00:00<00:00, 590751.75it/s]\n"
     ]
    },
    {
     "name": "stdout",
     "output_type": "stream",
     "text": [
      "name\n"
     ]
    },
    {
     "name": "stderr",
     "output_type": "stream",
     "text": [
      "100%|██████████████████████████████████████████████████████████████████████████| 3532/3532 [00:00<00:00, 879081.52it/s]\n"
     ]
    },
    {
     "name": "stdout",
     "output_type": "stream",
     "text": [
      "engine_name\n"
     ]
    },
    {
     "name": "stderr",
     "output_type": "stream",
     "text": [
      "100%|██████████████████████████████████████████████████████████████████████████| 3532/3532 [00:00<00:00, 876532.85it/s]\n"
     ]
    },
    {
     "name": "stdout",
     "output_type": "stream",
     "text": [
      "engineDisplacement\n"
     ]
    },
    {
     "name": "stderr",
     "output_type": "stream",
     "text": [
      "100%|██████████████████████████████████████████████████████████████████████████| 3532/3532 [00:00<00:00, 877311.48it/s]\n"
     ]
    },
    {
     "name": "stdout",
     "output_type": "stream",
     "text": [
      "enginePower\n"
     ]
    },
    {
     "name": "stderr",
     "output_type": "stream",
     "text": [
      "100%|██████████████████████████████████████████████████████████████████████████| 3532/3532 [00:00<00:00, 590398.60it/s]\n"
     ]
    },
    {
     "name": "stdout",
     "output_type": "stream",
     "text": [
      "engine_fuelType\n"
     ]
    },
    {
     "name": "stderr",
     "output_type": "stream",
     "text": [
      "100%|██████████████████████████████████████████████████████████████████████████| 3532/3532 [00:00<00:00, 704134.31it/s]\n"
     ]
    }
   ],
   "source": [
    "for i in df.columns:\n",
    "    print(i)\n",
    "    df[i] = df[i].progress_apply(lambda x: x.replace('\"', '') if (isinstance(x, int) == False and x[0] == '\"') else x)"
   ]
  },
  {
   "cell_type": "code",
   "execution_count": 606,
   "metadata": {},
   "outputs": [
    {
     "data": {
      "text/html": [
       "<div>\n",
       "<style scoped>\n",
       "    .dataframe tbody tr th:only-of-type {\n",
       "        vertical-align: middle;\n",
       "    }\n",
       "\n",
       "    .dataframe tbody tr th {\n",
       "        vertical-align: top;\n",
       "    }\n",
       "\n",
       "    .dataframe thead th {\n",
       "        text-align: right;\n",
       "    }\n",
       "</style>\n",
       "<table border=\"1\" class=\"dataframe\">\n",
       "  <thead>\n",
       "    <tr style=\"text-align: right;\">\n",
       "      <th></th>\n",
       "      <th>vehicleName</th>\n",
       "      <th>bodyType</th>\n",
       "      <th>brand</th>\n",
       "      <th>color</th>\n",
       "      <th>fuelType</th>\n",
       "      <th>modelDate</th>\n",
       "      <th>description</th>\n",
       "      <th>numberOfDoors</th>\n",
       "      <th>productionDate</th>\n",
       "      <th>vehicleConfiguration</th>\n",
       "      <th>vehicleTransmission</th>\n",
       "      <th>author</th>\n",
       "      <th>contentUrl</th>\n",
       "      <th>datePublished</th>\n",
       "      <th>image_description</th>\n",
       "      <th>name</th>\n",
       "      <th>engine_name</th>\n",
       "      <th>engineDisplacement</th>\n",
       "      <th>enginePower</th>\n",
       "      <th>engine_fuelType</th>\n",
       "    </tr>\n",
       "  </thead>\n",
       "  <tbody>\n",
       "    <tr>\n",
       "      <th>0</th>\n",
       "      <td>Lamborghini Urus I</td>\n",
       "      <td>внедорожник 5 дв.</td>\n",
       "      <td>LAMBORGHINI</td>\n",
       "      <td>серый</td>\n",
       "      <td>бензин</td>\n",
       "      <td>2017</td>\n",
       "      <td>Продам  Ламборгини Урус 2021 года выпуска .\\nК...</td>\n",
       "      <td>5</td>\n",
       "      <td>2021</td>\n",
       "      <td>ALLROAD_5_DOORS AUTOMATIC 4.0</td>\n",
       "      <td>автоматическая</td>\n",
       "      <td>Частное лицо</td>\n",
       "      <td>avatars.mds.yandex.net/get-autoru-vos/1597981/...</td>\n",
       "      <td>2021-11-10</td>\n",
       "      <td>Lamborghini Urus I серого цвета по цене 35 500...</td>\n",
       "      <td>Lamborghini Urus I серого цвета</td>\n",
       "      <td>4.0 AT</td>\n",
       "      <td>4.0 LTR</td>\n",
       "      <td>650 N12</td>\n",
       "      <td>бензи</td>\n",
       "    </tr>\n",
       "    <tr>\n",
       "      <th>1</th>\n",
       "      <td>BMW X5 30d IV (G05)</td>\n",
       "      <td>внедорожник 5 дв.</td>\n",
       "      <td>BMW</td>\n",
       "      <td>белый</td>\n",
       "      <td>дизель</td>\n",
       "      <td>2018</td>\n",
       "      <td>Автомобиль в наличии! Последний на пневмоподве...</td>\n",
       "      <td>5</td>\n",
       "      <td>2021</td>\n",
       "      <td>ALLROAD_5_DOORS AUTOMATIC 3.0</td>\n",
       "      <td>автоматическая</td>\n",
       "      <td>Дикси BMW Барнаул</td>\n",
       "      <td>autoru.naydex.net/17gJBV451/d3896378Ae/c9T7onO...</td>\n",
       "      <td>2021-11-12</td>\n",
       "      <td>BMW X5 30d IV (G05) белого цвета по цене 9 305...</td>\n",
       "      <td>BMW X5 30d IV (G05) белого цвета</td>\n",
       "      <td>3.0 AT</td>\n",
       "      <td>3.0 LTR</td>\n",
       "      <td>249 N12</td>\n",
       "      <td>дизел</td>\n",
       "    </tr>\n",
       "    <tr>\n",
       "      <th>2</th>\n",
       "      <td>Kia Ceed III</td>\n",
       "      <td>универсал 5 дв.</td>\n",
       "      <td>KIA</td>\n",
       "      <td>чёрный</td>\n",
       "      <td>бензин</td>\n",
       "      <td>2018</td>\n",
       "      <td>-  Автомобиль в отличном состоянии.\\n-  За все...</td>\n",
       "      <td>5</td>\n",
       "      <td>2019</td>\n",
       "      <td>WAGON_5_DOORS ROBOT 1.4</td>\n",
       "      <td>роботизированная</td>\n",
       "      <td>СИЛЬВЕР SELECT</td>\n",
       "      <td>autoru.naydex.net/17gJBV451/d3896378Ae/c9T7onO...</td>\n",
       "      <td>2021-11-13</td>\n",
       "      <td>Kia Ceed III чёрного цвета по цене 1 427 100 р...</td>\n",
       "      <td>Kia Ceed III чёрного цвета</td>\n",
       "      <td>1.4 AMT</td>\n",
       "      <td>1.4 LTR</td>\n",
       "      <td>140 N12</td>\n",
       "      <td>бензи</td>\n",
       "    </tr>\n",
       "    <tr>\n",
       "      <th>3</th>\n",
       "      <td>Opel Astra J Рестайлинг</td>\n",
       "      <td>седан</td>\n",
       "      <td>OPEL</td>\n",
       "      <td>серый</td>\n",
       "      <td>бензин</td>\n",
       "      <td>2012</td>\n",
       "      <td>чистый ухоженный автомобиль Комплект зимних ши...</td>\n",
       "      <td>4</td>\n",
       "      <td>2013</td>\n",
       "      <td>SEDAN AUTOMATIC 1.4</td>\n",
       "      <td>автоматическая</td>\n",
       "      <td>KK6969</td>\n",
       "      <td>autoru.naydex.net/17gJBV451/d3896378Ae/c9T7onO...</td>\n",
       "      <td>2021-10-11</td>\n",
       "      <td>Opel Astra J Рестайлинг серого цвета по цене 7...</td>\n",
       "      <td>Opel Astra J Рестайлинг серого цвета</td>\n",
       "      <td>1.4 AT</td>\n",
       "      <td>1.4 LTR</td>\n",
       "      <td>140 N12</td>\n",
       "      <td>бензи</td>\n",
       "    </tr>\n",
       "    <tr>\n",
       "      <th>4</th>\n",
       "      <td>Hyundai Creta II</td>\n",
       "      <td>внедорожник 5 дв.</td>\n",
       "      <td>HYUNDAI</td>\n",
       "      <td>белый</td>\n",
       "      <td>бензин</td>\n",
       "      <td>2021</td>\n",
       "      <td>Год выпуска: 2021. Пробег: новый. Кузов: внедо...</td>\n",
       "      <td>5</td>\n",
       "      <td>2021</td>\n",
       "      <td>ALLROAD_5_DOORS MECHANICAL 1.6</td>\n",
       "      <td>механическая</td>\n",
       "      <td>GN Service Hyundai Москва</td>\n",
       "      <td>autoru.naydex.net/17gJBV451/d3896378Ae/c9T7onO...</td>\n",
       "      <td>2021-09-10</td>\n",
       "      <td>Hyundai Creta II белого цвета по цене 1 270 00...</td>\n",
       "      <td>Hyundai Creta II белого цвета</td>\n",
       "      <td>1.6 MT</td>\n",
       "      <td>1.6 LTR</td>\n",
       "      <td>123 N12</td>\n",
       "      <td>бензи</td>\n",
       "    </tr>\n",
       "  </tbody>\n",
       "</table>\n",
       "</div>"
      ],
      "text/plain": [
       "               vehicleName           bodyType        brand   color fuelType  \\\n",
       "0       Lamborghini Urus I  внедорожник 5 дв.  LAMBORGHINI   серый   бензин   \n",
       "1      BMW X5 30d IV (G05)  внедорожник 5 дв.          BMW   белый   дизель   \n",
       "2             Kia Ceed III    универсал 5 дв.          KIA  чёрный   бензин   \n",
       "3  Opel Astra J Рестайлинг              седан         OPEL   серый   бензин   \n",
       "4         Hyundai Creta II  внедорожник 5 дв.      HYUNDAI   белый   бензин   \n",
       "\n",
       "   modelDate                                        description  \\\n",
       "0       2017  Продам  Ламборгини Урус 2021 года выпуска .\\nК...   \n",
       "1       2018  Автомобиль в наличии! Последний на пневмоподве...   \n",
       "2       2018  -  Автомобиль в отличном состоянии.\\n-  За все...   \n",
       "3       2012  чистый ухоженный автомобиль Комплект зимних ши...   \n",
       "4       2021  Год выпуска: 2021. Пробег: новый. Кузов: внедо...   \n",
       "\n",
       "   numberOfDoors  productionDate            vehicleConfiguration  \\\n",
       "0              5            2021   ALLROAD_5_DOORS AUTOMATIC 4.0   \n",
       "1              5            2021   ALLROAD_5_DOORS AUTOMATIC 3.0   \n",
       "2              5            2019         WAGON_5_DOORS ROBOT 1.4   \n",
       "3              4            2013             SEDAN AUTOMATIC 1.4   \n",
       "4              5            2021  ALLROAD_5_DOORS MECHANICAL 1.6   \n",
       "\n",
       "  vehicleTransmission                     author  \\\n",
       "0      автоматическая               Частное лицо   \n",
       "1      автоматическая          Дикси BMW Барнаул   \n",
       "2    роботизированная             СИЛЬВЕР SELECT   \n",
       "3      автоматическая                     KK6969   \n",
       "4        механическая  GN Service Hyundai Москва   \n",
       "\n",
       "                                          contentUrl datePublished  \\\n",
       "0  avatars.mds.yandex.net/get-autoru-vos/1597981/...    2021-11-10   \n",
       "1  autoru.naydex.net/17gJBV451/d3896378Ae/c9T7onO...    2021-11-12   \n",
       "2  autoru.naydex.net/17gJBV451/d3896378Ae/c9T7onO...    2021-11-13   \n",
       "3  autoru.naydex.net/17gJBV451/d3896378Ae/c9T7onO...    2021-10-11   \n",
       "4  autoru.naydex.net/17gJBV451/d3896378Ae/c9T7onO...    2021-09-10   \n",
       "\n",
       "                                   image_description  \\\n",
       "0  Lamborghini Urus I серого цвета по цене 35 500...   \n",
       "1  BMW X5 30d IV (G05) белого цвета по цене 9 305...   \n",
       "2  Kia Ceed III чёрного цвета по цене 1 427 100 р...   \n",
       "3  Opel Astra J Рестайлинг серого цвета по цене 7...   \n",
       "4  Hyundai Creta II белого цвета по цене 1 270 00...   \n",
       "\n",
       "                                   name engine_name engineDisplacement  \\\n",
       "0       Lamborghini Urus I серого цвета      4.0 AT            4.0 LTR   \n",
       "1      BMW X5 30d IV (G05) белого цвета      3.0 AT            3.0 LTR   \n",
       "2            Kia Ceed III чёрного цвета     1.4 AMT            1.4 LTR   \n",
       "3  Opel Astra J Рестайлинг серого цвета      1.4 AT            1.4 LTR   \n",
       "4         Hyundai Creta II белого цвета      1.6 MT            1.6 LTR   \n",
       "\n",
       "  enginePower engine_fuelType  \n",
       "0     650 N12           бензи  \n",
       "1     249 N12           дизел  \n",
       "2     140 N12           бензи  \n",
       "3     140 N12           бензи  \n",
       "4     123 N12           бензи  "
      ]
     },
     "execution_count": 606,
     "metadata": {},
     "output_type": "execute_result"
    }
   ],
   "source": [
    "df.head()"
   ]
  },
  {
   "cell_type": "code",
   "execution_count": 607,
   "metadata": {},
   "outputs": [],
   "source": [
    "### вычленяем цену из описания\n",
    "df['price'] = 0\n",
    "for i in range(len(df)):\n",
    "    if ' рубл' in df.at[i, 'image_description']:\n",
    "        df.at[i, 'price'] = df.at[i, 'image_description'].replace(df.at[i, 'name']+' по цене ', '')[:df.at[i, 'image_description'].replace(df.at[i, 'name']+' по цене ', '').find(' рубл')].replace(' ', '')\n",
    "    else:\n",
    "        continue"
   ]
  },
  {
   "cell_type": "code",
   "execution_count": 608,
   "metadata": {},
   "outputs": [],
   "source": [
    "### убираем строки, где цена не нашлась - это порядка 10% выборки\n",
    "df = df[df['price']>0].reset_index()\n",
    "df = df.drop(columns=['index'])"
   ]
  },
  {
   "cell_type": "markdown",
   "metadata": {},
   "source": [
    "#### Анализ признаков"
   ]
  },
  {
   "cell_type": "code",
   "execution_count": 609,
   "metadata": {},
   "outputs": [],
   "source": [
    "# признаки из тестового датасета\n",
    "required_feats = ['bodyType', 'brand', 'car_url', 'color', 'complectation_dict', 'description', 'engineDisplacement', 'enginePower',\n",
    "'equipment_dict', 'fuelType', 'image', 'mileage', 'modelDate', 'model_info', 'model_name', 'name', 'numberOfDoors', 'parsing_unixtime', 'priceCurrency',\n",
    "'productionDate', 'sell_id', 'super_gen', 'vehicleConfiguration', 'vehicleTransmission', 'vendor', 'Владельцы', 'Владение', 'ПТС', 'Привод', 'Руль', 'Состояние', 'Таможня']\n",
    "\n"
   ]
  },
  {
   "cell_type": "markdown",
   "metadata": {},
   "source": [
    "##### Убрать признаки (по анализу на kaggle)\n",
    "<br>\n",
    "- car_url - просто ссылка на страницу объявления, не несёт полезной для обучения информации<br>\n",
    "- complectation_dict - null в 81% случаев в тестовом сете<br>\n",
    "- description - текстовое описание, которое требует доп. обработки<br>\n",
    "- equipment_dict - null в 29% случаев в тестовом сете и требует доп.обработки<br>\n",
    "- image - просто ссылка<br>\n",
    "- model_info - не интересно с точки зрения предсказания цены<br>\n",
    "- parsing_unixtime - время парсинга - не интересно с точки зрения предсказания цены всех автомобилей<br>\n",
    "- priceCurrency - одно уникальное значение по всей выборке<br>\n",
    "- sell_id - не несёт полезной для обучения информации<br>\n",
    "- super_gen - свод информации из уже имеющихся признаков<br>\n",
    "- vendor - понятно из бренда<br>\n",
    "- Владение - null в 65% случаев<br>\n",
    "- ПТС - 87% одинаковых значений<br>\n",
    "- Привод - уже содержится в vehicleTransmission<br>\n",
    "- Руль - 96% одинаковых значений<br>\n",
    "- Состояние - одно уникальное значение по всей выборке<br>\n",
    "- Таможня - одно уникальное значение по всей выборке<br>"
   ]
  },
  {
   "cell_type": "code",
   "execution_count": 610,
   "metadata": {},
   "outputs": [],
   "source": [
    "for i in ['car_url', 'complectation_dict', 'description', 'equipment_dict',\n",
    "          'image', 'model_info', 'parsing_unixtime', 'vehicleConfiguration', 'priceCurrency',  'sell_id', 'super_gen', 'vendor', 'Владение', 'ПТС', 'Привод', 'Руль', 'Состояние', 'Таможня']:\n",
    "    required_feats.remove(i)"
   ]
  },
  {
   "cell_type": "code",
   "execution_count": 611,
   "metadata": {},
   "outputs": [
    {
     "data": {
      "text/plain": [
       "['bodyType',\n",
       " 'brand',\n",
       " 'color',\n",
       " 'engineDisplacement',\n",
       " 'enginePower',\n",
       " 'fuelType',\n",
       " 'mileage',\n",
       " 'modelDate',\n",
       " 'model_name',\n",
       " 'name',\n",
       " 'numberOfDoors',\n",
       " 'productionDate',\n",
       " 'vehicleTransmission',\n",
       " 'Владельцы']"
      ]
     },
     "execution_count": 611,
     "metadata": {},
     "output_type": "execute_result"
    }
   ],
   "source": [
    "required_feats"
   ]
  },
  {
   "cell_type": "code",
   "execution_count": 612,
   "metadata": {},
   "outputs": [
    {
     "data": {
      "text/plain": [
       "Index(['vehicleName', 'bodyType', 'brand', 'color', 'fuelType', 'modelDate',\n",
       "       'description', 'numberOfDoors', 'productionDate',\n",
       "       'vehicleConfiguration', 'vehicleTransmission', 'author', 'contentUrl',\n",
       "       'datePublished', 'image_description', 'name', 'engine_name',\n",
       "       'engineDisplacement', 'enginePower', 'engine_fuelType', 'price'],\n",
       "      dtype='object')"
      ]
     },
     "execution_count": 612,
     "metadata": {},
     "output_type": "execute_result"
    }
   ],
   "source": [
    "### проверям названия столбцов в учебном датасете\n",
    "df.columns"
   ]
  },
  {
   "cell_type": "code",
   "execution_count": 613,
   "metadata": {},
   "outputs": [],
   "source": [
    "df = df.drop(columns = ['contentUrl'])"
   ]
  },
  {
   "cell_type": "code",
   "execution_count": 614,
   "metadata": {
    "scrolled": true
   },
   "outputs": [
    {
     "data": {
      "text/html": [
       "<div>\n",
       "<style scoped>\n",
       "    .dataframe tbody tr th:only-of-type {\n",
       "        vertical-align: middle;\n",
       "    }\n",
       "\n",
       "    .dataframe tbody tr th {\n",
       "        vertical-align: top;\n",
       "    }\n",
       "\n",
       "    .dataframe thead th {\n",
       "        text-align: right;\n",
       "    }\n",
       "</style>\n",
       "<table border=\"1\" class=\"dataframe\">\n",
       "  <thead>\n",
       "    <tr style=\"text-align: right;\">\n",
       "      <th></th>\n",
       "      <th>vehicleName</th>\n",
       "      <th>bodyType</th>\n",
       "      <th>brand</th>\n",
       "      <th>color</th>\n",
       "      <th>fuelType</th>\n",
       "      <th>modelDate</th>\n",
       "      <th>description</th>\n",
       "      <th>numberOfDoors</th>\n",
       "      <th>productionDate</th>\n",
       "      <th>vehicleConfiguration</th>\n",
       "      <th>vehicleTransmission</th>\n",
       "      <th>author</th>\n",
       "      <th>datePublished</th>\n",
       "      <th>image_description</th>\n",
       "      <th>name</th>\n",
       "      <th>engine_name</th>\n",
       "      <th>engineDisplacement</th>\n",
       "      <th>enginePower</th>\n",
       "      <th>engine_fuelType</th>\n",
       "      <th>price</th>\n",
       "    </tr>\n",
       "  </thead>\n",
       "  <tbody>\n",
       "    <tr>\n",
       "      <th>0</th>\n",
       "      <td>Lamborghini Urus I</td>\n",
       "      <td>внедорожник 5 дв.</td>\n",
       "      <td>LAMBORGHINI</td>\n",
       "      <td>серый</td>\n",
       "      <td>бензин</td>\n",
       "      <td>2017</td>\n",
       "      <td>Продам  Ламборгини Урус 2021 года выпуска .\\nК...</td>\n",
       "      <td>5</td>\n",
       "      <td>2021</td>\n",
       "      <td>ALLROAD_5_DOORS AUTOMATIC 4.0</td>\n",
       "      <td>автоматическая</td>\n",
       "      <td>Частное лицо</td>\n",
       "      <td>2021-11-10</td>\n",
       "      <td>Lamborghini Urus I серого цвета по цене 35 500...</td>\n",
       "      <td>Lamborghini Urus I серого цвета</td>\n",
       "      <td>4.0 AT</td>\n",
       "      <td>4.0 LTR</td>\n",
       "      <td>650 N12</td>\n",
       "      <td>бензи</td>\n",
       "      <td>35500444</td>\n",
       "    </tr>\n",
       "    <tr>\n",
       "      <th>1</th>\n",
       "      <td>BMW X5 30d IV (G05)</td>\n",
       "      <td>внедорожник 5 дв.</td>\n",
       "      <td>BMW</td>\n",
       "      <td>белый</td>\n",
       "      <td>дизель</td>\n",
       "      <td>2018</td>\n",
       "      <td>Автомобиль в наличии! Последний на пневмоподве...</td>\n",
       "      <td>5</td>\n",
       "      <td>2021</td>\n",
       "      <td>ALLROAD_5_DOORS AUTOMATIC 3.0</td>\n",
       "      <td>автоматическая</td>\n",
       "      <td>Дикси BMW Барнаул</td>\n",
       "      <td>2021-11-12</td>\n",
       "      <td>BMW X5 30d IV (G05) белого цвета по цене 9 305...</td>\n",
       "      <td>BMW X5 30d IV (G05) белого цвета</td>\n",
       "      <td>3.0 AT</td>\n",
       "      <td>3.0 LTR</td>\n",
       "      <td>249 N12</td>\n",
       "      <td>дизел</td>\n",
       "      <td>9305000</td>\n",
       "    </tr>\n",
       "    <tr>\n",
       "      <th>2</th>\n",
       "      <td>Kia Ceed III</td>\n",
       "      <td>универсал 5 дв.</td>\n",
       "      <td>KIA</td>\n",
       "      <td>чёрный</td>\n",
       "      <td>бензин</td>\n",
       "      <td>2018</td>\n",
       "      <td>-  Автомобиль в отличном состоянии.\\n-  За все...</td>\n",
       "      <td>5</td>\n",
       "      <td>2019</td>\n",
       "      <td>WAGON_5_DOORS ROBOT 1.4</td>\n",
       "      <td>роботизированная</td>\n",
       "      <td>СИЛЬВЕР SELECT</td>\n",
       "      <td>2021-11-13</td>\n",
       "      <td>Kia Ceed III чёрного цвета по цене 1 427 100 р...</td>\n",
       "      <td>Kia Ceed III чёрного цвета</td>\n",
       "      <td>1.4 AMT</td>\n",
       "      <td>1.4 LTR</td>\n",
       "      <td>140 N12</td>\n",
       "      <td>бензи</td>\n",
       "      <td>1427100</td>\n",
       "    </tr>\n",
       "    <tr>\n",
       "      <th>3</th>\n",
       "      <td>Opel Astra J Рестайлинг</td>\n",
       "      <td>седан</td>\n",
       "      <td>OPEL</td>\n",
       "      <td>серый</td>\n",
       "      <td>бензин</td>\n",
       "      <td>2012</td>\n",
       "      <td>чистый ухоженный автомобиль Комплект зимних ши...</td>\n",
       "      <td>4</td>\n",
       "      <td>2013</td>\n",
       "      <td>SEDAN AUTOMATIC 1.4</td>\n",
       "      <td>автоматическая</td>\n",
       "      <td>KK6969</td>\n",
       "      <td>2021-10-11</td>\n",
       "      <td>Opel Astra J Рестайлинг серого цвета по цене 7...</td>\n",
       "      <td>Opel Astra J Рестайлинг серого цвета</td>\n",
       "      <td>1.4 AT</td>\n",
       "      <td>1.4 LTR</td>\n",
       "      <td>140 N12</td>\n",
       "      <td>бензи</td>\n",
       "      <td>777777</td>\n",
       "    </tr>\n",
       "    <tr>\n",
       "      <th>4</th>\n",
       "      <td>Hyundai Creta II</td>\n",
       "      <td>внедорожник 5 дв.</td>\n",
       "      <td>HYUNDAI</td>\n",
       "      <td>белый</td>\n",
       "      <td>бензин</td>\n",
       "      <td>2021</td>\n",
       "      <td>Год выпуска: 2021. Пробег: новый. Кузов: внедо...</td>\n",
       "      <td>5</td>\n",
       "      <td>2021</td>\n",
       "      <td>ALLROAD_5_DOORS MECHANICAL 1.6</td>\n",
       "      <td>механическая</td>\n",
       "      <td>GN Service Hyundai Москва</td>\n",
       "      <td>2021-09-10</td>\n",
       "      <td>Hyundai Creta II белого цвета по цене 1 270 00...</td>\n",
       "      <td>Hyundai Creta II белого цвета</td>\n",
       "      <td>1.6 MT</td>\n",
       "      <td>1.6 LTR</td>\n",
       "      <td>123 N12</td>\n",
       "      <td>бензи</td>\n",
       "      <td>1270000</td>\n",
       "    </tr>\n",
       "  </tbody>\n",
       "</table>\n",
       "</div>"
      ],
      "text/plain": [
       "               vehicleName           bodyType        brand   color fuelType  \\\n",
       "0       Lamborghini Urus I  внедорожник 5 дв.  LAMBORGHINI   серый   бензин   \n",
       "1      BMW X5 30d IV (G05)  внедорожник 5 дв.          BMW   белый   дизель   \n",
       "2             Kia Ceed III    универсал 5 дв.          KIA  чёрный   бензин   \n",
       "3  Opel Astra J Рестайлинг              седан         OPEL   серый   бензин   \n",
       "4         Hyundai Creta II  внедорожник 5 дв.      HYUNDAI   белый   бензин   \n",
       "\n",
       "   modelDate                                        description  \\\n",
       "0       2017  Продам  Ламборгини Урус 2021 года выпуска .\\nК...   \n",
       "1       2018  Автомобиль в наличии! Последний на пневмоподве...   \n",
       "2       2018  -  Автомобиль в отличном состоянии.\\n-  За все...   \n",
       "3       2012  чистый ухоженный автомобиль Комплект зимних ши...   \n",
       "4       2021  Год выпуска: 2021. Пробег: новый. Кузов: внедо...   \n",
       "\n",
       "   numberOfDoors  productionDate            vehicleConfiguration  \\\n",
       "0              5            2021   ALLROAD_5_DOORS AUTOMATIC 4.0   \n",
       "1              5            2021   ALLROAD_5_DOORS AUTOMATIC 3.0   \n",
       "2              5            2019         WAGON_5_DOORS ROBOT 1.4   \n",
       "3              4            2013             SEDAN AUTOMATIC 1.4   \n",
       "4              5            2021  ALLROAD_5_DOORS MECHANICAL 1.6   \n",
       "\n",
       "  vehicleTransmission                     author datePublished  \\\n",
       "0      автоматическая               Частное лицо    2021-11-10   \n",
       "1      автоматическая          Дикси BMW Барнаул    2021-11-12   \n",
       "2    роботизированная             СИЛЬВЕР SELECT    2021-11-13   \n",
       "3      автоматическая                     KK6969    2021-10-11   \n",
       "4        механическая  GN Service Hyundai Москва    2021-09-10   \n",
       "\n",
       "                                   image_description  \\\n",
       "0  Lamborghini Urus I серого цвета по цене 35 500...   \n",
       "1  BMW X5 30d IV (G05) белого цвета по цене 9 305...   \n",
       "2  Kia Ceed III чёрного цвета по цене 1 427 100 р...   \n",
       "3  Opel Astra J Рестайлинг серого цвета по цене 7...   \n",
       "4  Hyundai Creta II белого цвета по цене 1 270 00...   \n",
       "\n",
       "                                   name engine_name engineDisplacement  \\\n",
       "0       Lamborghini Urus I серого цвета      4.0 AT            4.0 LTR   \n",
       "1      BMW X5 30d IV (G05) белого цвета      3.0 AT            3.0 LTR   \n",
       "2            Kia Ceed III чёрного цвета     1.4 AMT            1.4 LTR   \n",
       "3  Opel Astra J Рестайлинг серого цвета      1.4 AT            1.4 LTR   \n",
       "4         Hyundai Creta II белого цвета      1.6 MT            1.6 LTR   \n",
       "\n",
       "  enginePower engine_fuelType     price  \n",
       "0     650 N12           бензи  35500444  \n",
       "1     249 N12           дизел   9305000  \n",
       "2     140 N12           бензи   1427100  \n",
       "3     140 N12           бензи    777777  \n",
       "4     123 N12           бензи   1270000  "
      ]
     },
     "execution_count": 614,
     "metadata": {},
     "output_type": "execute_result"
    }
   ],
   "source": [
    "df.head()"
   ]
  },
  {
   "cell_type": "code",
   "execution_count": 615,
   "metadata": {},
   "outputs": [],
   "source": [
    "df['monthPublished']=df.datePublished.astype('datetime64').dt.date.apply(lambda x: x.month)"
   ]
  },
  {
   "cell_type": "code",
   "execution_count": 616,
   "metadata": {},
   "outputs": [
    {
     "data": {
      "text/plain": [
       "11    3021\n",
       "10     241\n",
       "9       86\n",
       "8       15\n",
       "7        6\n",
       "3        2\n",
       "6        2\n",
       "5        1\n",
       "Name: monthPublished, dtype: int64"
      ]
     },
     "execution_count": 616,
     "metadata": {},
     "output_type": "execute_result"
    }
   ],
   "source": [
    "df['monthPublished'].value_counts()"
   ]
  },
  {
   "cell_type": "code",
   "execution_count": 617,
   "metadata": {},
   "outputs": [],
   "source": [
    "df['engineDisplacement'] = df['engineDisplacement'].apply(lambda x: x.replace(' LTR', ''))\n",
    "df['enginePower'] = df['enginePower'].apply(lambda x: x.replace(' N12', ''))"
   ]
  },
  {
   "cell_type": "code",
   "execution_count": 618,
   "metadata": {},
   "outputs": [],
   "source": [
    "df['engineDisplacement'] = df['engineDisplacement'].apply(lambda x: 0 if x == '' else x)"
   ]
  },
  {
   "cell_type": "code",
   "execution_count": 619,
   "metadata": {
    "scrolled": true
   },
   "outputs": [],
   "source": [
    "df['engineDisplacement'] = df['engineDisplacement'].astype('float64')\n",
    "df['enginePower'] = df['enginePower'].apply(lambda x: x.replace(' ', '')).astype('float64')"
   ]
  },
  {
   "cell_type": "code",
   "execution_count": 620,
   "metadata": {},
   "outputs": [],
   "source": [
    "df['datePublished'] = df['datePublished'].astype('datetime64').dt.date"
   ]
  },
  {
   "cell_type": "code",
   "execution_count": 621,
   "metadata": {},
   "outputs": [],
   "source": [
    "df['yearPublished'] = df['datePublished'].apply(lambda x: x.year)\n",
    "df['dateFromProduction'] = df['yearPublished'] - df['productionDate']\n",
    "# required_feats.append('dateFromProduction')"
   ]
  },
  {
   "cell_type": "markdown",
   "metadata": {},
   "source": [
    "##### первая колонка из тестового сета, вторая - из обучающего\n",
    "\n",
    "- bodyType = bodyType<br>\n",
    "- brand = brand<br>\n",
    "- color = color<br>\n",
    "- engineDisplacement = engineDisplacement<br>\n",
    "- enginePower = enginePower<br>\n",
    "- fuelType = fuelType<br>\n",
    "- mileage - отсутствует, уберём<br>\n",
    "- modelDate = modelDate<br>\n",
    "- model_name - нет, но можно сделать (из vehicleName уберём brand)<br>\n",
    "- name = ближайшее - engine_name, но из тестовой выборки нужно убрать обозначение лошадиных сил и DSG<br>\n",
    "- numberOfDoors = numberOfDoors<br>\n",
    "- productionDate = productionDate<br>\n",
    "- Владельцы - отсутствует, уберём<br>"
   ]
  },
  {
   "cell_type": "code",
   "execution_count": 622,
   "metadata": {},
   "outputs": [],
   "source": [
    "### убираем признаки, которые не спарсились\n",
    "required_feats.remove('mileage')\n",
    "required_feats.remove('Владельцы')\n",
    "# required_feats.remove('engineName')"
   ]
  },
  {
   "cell_type": "code",
   "execution_count": 623,
   "metadata": {
    "scrolled": true
   },
   "outputs": [
    {
     "name": "stdout",
     "output_type": "stream",
     "text": [
      "Lambo\n"
     ]
    }
   ],
   "source": [
    "a = 'LAMBO'\n",
    "print(a.capitalize())"
   ]
  },
  {
   "cell_type": "code",
   "execution_count": 624,
   "metadata": {},
   "outputs": [
    {
     "data": {
      "text/html": [
       "<div>\n",
       "<style scoped>\n",
       "    .dataframe tbody tr th:only-of-type {\n",
       "        vertical-align: middle;\n",
       "    }\n",
       "\n",
       "    .dataframe tbody tr th {\n",
       "        vertical-align: top;\n",
       "    }\n",
       "\n",
       "    .dataframe thead th {\n",
       "        text-align: right;\n",
       "    }\n",
       "</style>\n",
       "<table border=\"1\" class=\"dataframe\">\n",
       "  <thead>\n",
       "    <tr style=\"text-align: right;\">\n",
       "      <th></th>\n",
       "      <th>vehicleName</th>\n",
       "      <th>bodyType</th>\n",
       "      <th>brand</th>\n",
       "      <th>color</th>\n",
       "      <th>fuelType</th>\n",
       "      <th>modelDate</th>\n",
       "      <th>description</th>\n",
       "      <th>numberOfDoors</th>\n",
       "      <th>productionDate</th>\n",
       "      <th>vehicleConfiguration</th>\n",
       "      <th>...</th>\n",
       "      <th>image_description</th>\n",
       "      <th>name</th>\n",
       "      <th>engine_name</th>\n",
       "      <th>engineDisplacement</th>\n",
       "      <th>enginePower</th>\n",
       "      <th>engine_fuelType</th>\n",
       "      <th>price</th>\n",
       "      <th>monthPublished</th>\n",
       "      <th>yearPublished</th>\n",
       "      <th>dateFromProduction</th>\n",
       "    </tr>\n",
       "  </thead>\n",
       "  <tbody>\n",
       "    <tr>\n",
       "      <th>0</th>\n",
       "      <td>Lamborghini Urus I</td>\n",
       "      <td>внедорожник 5 дв.</td>\n",
       "      <td>LAMBORGHINI</td>\n",
       "      <td>серый</td>\n",
       "      <td>бензин</td>\n",
       "      <td>2017</td>\n",
       "      <td>Продам  Ламборгини Урус 2021 года выпуска .\\nК...</td>\n",
       "      <td>5</td>\n",
       "      <td>2021</td>\n",
       "      <td>ALLROAD_5_DOORS AUTOMATIC 4.0</td>\n",
       "      <td>...</td>\n",
       "      <td>Lamborghini Urus I серого цвета по цене 35 500...</td>\n",
       "      <td>Lamborghini Urus I серого цвета</td>\n",
       "      <td>4.0 AT</td>\n",
       "      <td>4.0</td>\n",
       "      <td>650.0</td>\n",
       "      <td>бензи</td>\n",
       "      <td>35500444</td>\n",
       "      <td>11</td>\n",
       "      <td>2021</td>\n",
       "      <td>0</td>\n",
       "    </tr>\n",
       "    <tr>\n",
       "      <th>1</th>\n",
       "      <td>BMW X5 30d IV (G05)</td>\n",
       "      <td>внедорожник 5 дв.</td>\n",
       "      <td>BMW</td>\n",
       "      <td>белый</td>\n",
       "      <td>дизель</td>\n",
       "      <td>2018</td>\n",
       "      <td>Автомобиль в наличии! Последний на пневмоподве...</td>\n",
       "      <td>5</td>\n",
       "      <td>2021</td>\n",
       "      <td>ALLROAD_5_DOORS AUTOMATIC 3.0</td>\n",
       "      <td>...</td>\n",
       "      <td>BMW X5 30d IV (G05) белого цвета по цене 9 305...</td>\n",
       "      <td>BMW X5 30d IV (G05) белого цвета</td>\n",
       "      <td>3.0 AT</td>\n",
       "      <td>3.0</td>\n",
       "      <td>249.0</td>\n",
       "      <td>дизел</td>\n",
       "      <td>9305000</td>\n",
       "      <td>11</td>\n",
       "      <td>2021</td>\n",
       "      <td>0</td>\n",
       "    </tr>\n",
       "    <tr>\n",
       "      <th>2</th>\n",
       "      <td>Kia Ceed III</td>\n",
       "      <td>универсал 5 дв.</td>\n",
       "      <td>KIA</td>\n",
       "      <td>чёрный</td>\n",
       "      <td>бензин</td>\n",
       "      <td>2018</td>\n",
       "      <td>-  Автомобиль в отличном состоянии.\\n-  За все...</td>\n",
       "      <td>5</td>\n",
       "      <td>2019</td>\n",
       "      <td>WAGON_5_DOORS ROBOT 1.4</td>\n",
       "      <td>...</td>\n",
       "      <td>Kia Ceed III чёрного цвета по цене 1 427 100 р...</td>\n",
       "      <td>Kia Ceed III чёрного цвета</td>\n",
       "      <td>1.4 AMT</td>\n",
       "      <td>1.4</td>\n",
       "      <td>140.0</td>\n",
       "      <td>бензи</td>\n",
       "      <td>1427100</td>\n",
       "      <td>11</td>\n",
       "      <td>2021</td>\n",
       "      <td>2</td>\n",
       "    </tr>\n",
       "    <tr>\n",
       "      <th>3</th>\n",
       "      <td>Opel Astra J Рестайлинг</td>\n",
       "      <td>седан</td>\n",
       "      <td>OPEL</td>\n",
       "      <td>серый</td>\n",
       "      <td>бензин</td>\n",
       "      <td>2012</td>\n",
       "      <td>чистый ухоженный автомобиль Комплект зимних ши...</td>\n",
       "      <td>4</td>\n",
       "      <td>2013</td>\n",
       "      <td>SEDAN AUTOMATIC 1.4</td>\n",
       "      <td>...</td>\n",
       "      <td>Opel Astra J Рестайлинг серого цвета по цене 7...</td>\n",
       "      <td>Opel Astra J Рестайлинг серого цвета</td>\n",
       "      <td>1.4 AT</td>\n",
       "      <td>1.4</td>\n",
       "      <td>140.0</td>\n",
       "      <td>бензи</td>\n",
       "      <td>777777</td>\n",
       "      <td>10</td>\n",
       "      <td>2021</td>\n",
       "      <td>8</td>\n",
       "    </tr>\n",
       "    <tr>\n",
       "      <th>4</th>\n",
       "      <td>Hyundai Creta II</td>\n",
       "      <td>внедорожник 5 дв.</td>\n",
       "      <td>HYUNDAI</td>\n",
       "      <td>белый</td>\n",
       "      <td>бензин</td>\n",
       "      <td>2021</td>\n",
       "      <td>Год выпуска: 2021. Пробег: новый. Кузов: внедо...</td>\n",
       "      <td>5</td>\n",
       "      <td>2021</td>\n",
       "      <td>ALLROAD_5_DOORS MECHANICAL 1.6</td>\n",
       "      <td>...</td>\n",
       "      <td>Hyundai Creta II белого цвета по цене 1 270 00...</td>\n",
       "      <td>Hyundai Creta II белого цвета</td>\n",
       "      <td>1.6 MT</td>\n",
       "      <td>1.6</td>\n",
       "      <td>123.0</td>\n",
       "      <td>бензи</td>\n",
       "      <td>1270000</td>\n",
       "      <td>9</td>\n",
       "      <td>2021</td>\n",
       "      <td>0</td>\n",
       "    </tr>\n",
       "  </tbody>\n",
       "</table>\n",
       "<p>5 rows × 23 columns</p>\n",
       "</div>"
      ],
      "text/plain": [
       "               vehicleName           bodyType        brand   color fuelType  \\\n",
       "0       Lamborghini Urus I  внедорожник 5 дв.  LAMBORGHINI   серый   бензин   \n",
       "1      BMW X5 30d IV (G05)  внедорожник 5 дв.          BMW   белый   дизель   \n",
       "2             Kia Ceed III    универсал 5 дв.          KIA  чёрный   бензин   \n",
       "3  Opel Astra J Рестайлинг              седан         OPEL   серый   бензин   \n",
       "4         Hyundai Creta II  внедорожник 5 дв.      HYUNDAI   белый   бензин   \n",
       "\n",
       "   modelDate                                        description  \\\n",
       "0       2017  Продам  Ламборгини Урус 2021 года выпуска .\\nК...   \n",
       "1       2018  Автомобиль в наличии! Последний на пневмоподве...   \n",
       "2       2018  -  Автомобиль в отличном состоянии.\\n-  За все...   \n",
       "3       2012  чистый ухоженный автомобиль Комплект зимних ши...   \n",
       "4       2021  Год выпуска: 2021. Пробег: новый. Кузов: внедо...   \n",
       "\n",
       "   numberOfDoors  productionDate            vehicleConfiguration  ...  \\\n",
       "0              5            2021   ALLROAD_5_DOORS AUTOMATIC 4.0  ...   \n",
       "1              5            2021   ALLROAD_5_DOORS AUTOMATIC 3.0  ...   \n",
       "2              5            2019         WAGON_5_DOORS ROBOT 1.4  ...   \n",
       "3              4            2013             SEDAN AUTOMATIC 1.4  ...   \n",
       "4              5            2021  ALLROAD_5_DOORS MECHANICAL 1.6  ...   \n",
       "\n",
       "                                   image_description  \\\n",
       "0  Lamborghini Urus I серого цвета по цене 35 500...   \n",
       "1  BMW X5 30d IV (G05) белого цвета по цене 9 305...   \n",
       "2  Kia Ceed III чёрного цвета по цене 1 427 100 р...   \n",
       "3  Opel Astra J Рестайлинг серого цвета по цене 7...   \n",
       "4  Hyundai Creta II белого цвета по цене 1 270 00...   \n",
       "\n",
       "                                   name engine_name engineDisplacement  \\\n",
       "0       Lamborghini Urus I серого цвета      4.0 AT                4.0   \n",
       "1      BMW X5 30d IV (G05) белого цвета      3.0 AT                3.0   \n",
       "2            Kia Ceed III чёрного цвета     1.4 AMT                1.4   \n",
       "3  Opel Astra J Рестайлинг серого цвета      1.4 AT                1.4   \n",
       "4         Hyundai Creta II белого цвета      1.6 MT                1.6   \n",
       "\n",
       "  enginePower engine_fuelType     price  monthPublished yearPublished  \\\n",
       "0       650.0           бензи  35500444              11          2021   \n",
       "1       249.0           дизел   9305000              11          2021   \n",
       "2       140.0           бензи   1427100              11          2021   \n",
       "3       140.0           бензи    777777              10          2021   \n",
       "4       123.0           бензи   1270000               9          2021   \n",
       "\n",
       "   dateFromProduction  \n",
       "0                   0  \n",
       "1                   0  \n",
       "2                   2  \n",
       "3                   8  \n",
       "4                   0  \n",
       "\n",
       "[5 rows x 23 columns]"
      ]
     },
     "execution_count": 624,
     "metadata": {},
     "output_type": "execute_result"
    }
   ],
   "source": [
    "df.head()"
   ]
  },
  {
   "cell_type": "code",
   "execution_count": null,
   "metadata": {},
   "outputs": [],
   "source": []
  },
  {
   "cell_type": "code",
   "execution_count": 625,
   "metadata": {},
   "outputs": [],
   "source": [
    "### добавляем признаки, которые несложно создать\n",
    "df['model_name'] = str()\n",
    "for i in range(len(df)):\n",
    "    if df.at[i, 'brand'] in df.at[i, 'model_name']:\n",
    "        df.at[i, 'model_name'] = df.at[i, 'vehicleName'].replace(df.at[i, 'brand'] + ' ', \"\")\n",
    "    else:\n",
    "        df.at[i, 'model_name'] = df.at[i, 'vehicleName'].replace(df.at[i, 'brand'].capitalize() + ' ', \"\")"
   ]
  },
  {
   "cell_type": "code",
   "execution_count": 626,
   "metadata": {},
   "outputs": [],
   "source": [
    "df = df.drop(columns=['name'])\n",
    "df = df.rename(columns={'engine_name':'name'})"
   ]
  },
  {
   "cell_type": "code",
   "execution_count": 627,
   "metadata": {},
   "outputs": [],
   "source": [
    "test_df = pd.read_csv('test.csv')"
   ]
  },
  {
   "cell_type": "code",
   "execution_count": 628,
   "metadata": {},
   "outputs": [],
   "source": [
    "def name_clear(text):\n",
    "    text = text.replace('DSG ', '')\n",
    "    text = text[ :text.find('(')-1]\n",
    "    return text\n",
    "    \n",
    "test_df['name'] = test_df['name'].apply(name_clear)"
   ]
  },
  {
   "cell_type": "code",
   "execution_count": 629,
   "metadata": {},
   "outputs": [
    {
     "data": {
      "text/html": [
       "<div>\n",
       "<style scoped>\n",
       "    .dataframe tbody tr th:only-of-type {\n",
       "        vertical-align: middle;\n",
       "    }\n",
       "\n",
       "    .dataframe tbody tr th {\n",
       "        vertical-align: top;\n",
       "    }\n",
       "\n",
       "    .dataframe thead th {\n",
       "        text-align: right;\n",
       "    }\n",
       "</style>\n",
       "<table border=\"1\" class=\"dataframe\">\n",
       "  <thead>\n",
       "    <tr style=\"text-align: right;\">\n",
       "      <th></th>\n",
       "      <th>bodyType</th>\n",
       "      <th>brand</th>\n",
       "      <th>car_url</th>\n",
       "      <th>color</th>\n",
       "      <th>complectation_dict</th>\n",
       "      <th>description</th>\n",
       "      <th>engineDisplacement</th>\n",
       "      <th>enginePower</th>\n",
       "      <th>equipment_dict</th>\n",
       "      <th>fuelType</th>\n",
       "      <th>...</th>\n",
       "      <th>vehicleConfiguration</th>\n",
       "      <th>vehicleTransmission</th>\n",
       "      <th>vendor</th>\n",
       "      <th>Владельцы</th>\n",
       "      <th>Владение</th>\n",
       "      <th>ПТС</th>\n",
       "      <th>Привод</th>\n",
       "      <th>Руль</th>\n",
       "      <th>Состояние</th>\n",
       "      <th>Таможня</th>\n",
       "    </tr>\n",
       "  </thead>\n",
       "  <tbody>\n",
       "    <tr>\n",
       "      <th>0</th>\n",
       "      <td>лифтбек</td>\n",
       "      <td>SKODA</td>\n",
       "      <td>https://auto.ru/cars/used/sale/skoda/octavia/1...</td>\n",
       "      <td>синий</td>\n",
       "      <td>NaN</td>\n",
       "      <td>Все автомобили, представленные в продаже, прох...</td>\n",
       "      <td>1.2 LTR</td>\n",
       "      <td>105 N12</td>\n",
       "      <td>{\"engine-proof\":true,\"tinted-glass\":true,\"airb...</td>\n",
       "      <td>бензин</td>\n",
       "      <td>...</td>\n",
       "      <td>LIFTBACK ROBOT 1.2</td>\n",
       "      <td>роботизированная</td>\n",
       "      <td>EUROPEAN</td>\n",
       "      <td>3 или более</td>\n",
       "      <td>NaN</td>\n",
       "      <td>Оригинал</td>\n",
       "      <td>передний</td>\n",
       "      <td>Левый</td>\n",
       "      <td>Не требует ремонта</td>\n",
       "      <td>Растаможен</td>\n",
       "    </tr>\n",
       "    <tr>\n",
       "      <th>1</th>\n",
       "      <td>лифтбек</td>\n",
       "      <td>SKODA</td>\n",
       "      <td>https://auto.ru/cars/used/sale/skoda/octavia/1...</td>\n",
       "      <td>чёрный</td>\n",
       "      <td>NaN</td>\n",
       "      <td>ЛОТ: 01217195\\nАвтопрага Север\\nДанный автомоб...</td>\n",
       "      <td>1.6 LTR</td>\n",
       "      <td>110 N12</td>\n",
       "      <td>{\"cruise-control\":true,\"asr\":true,\"esp\":true,\"...</td>\n",
       "      <td>бензин</td>\n",
       "      <td>...</td>\n",
       "      <td>LIFTBACK MECHANICAL 1.6</td>\n",
       "      <td>механическая</td>\n",
       "      <td>EUROPEAN</td>\n",
       "      <td>1 владелец</td>\n",
       "      <td>NaN</td>\n",
       "      <td>Оригинал</td>\n",
       "      <td>передний</td>\n",
       "      <td>Левый</td>\n",
       "      <td>Не требует ремонта</td>\n",
       "      <td>Растаможен</td>\n",
       "    </tr>\n",
       "    <tr>\n",
       "      <th>2</th>\n",
       "      <td>лифтбек</td>\n",
       "      <td>SKODA</td>\n",
       "      <td>https://auto.ru/cars/used/sale/skoda/superb/11...</td>\n",
       "      <td>серый</td>\n",
       "      <td>{\"id\":\"20026336\",\"name\":\"Ambition\",\"available_...</td>\n",
       "      <td>Все автомобили, представленные в продаже, прох...</td>\n",
       "      <td>1.8 LTR</td>\n",
       "      <td>152 N12</td>\n",
       "      <td>{\"cruise-control\":true,\"tinted-glass\":true,\"es...</td>\n",
       "      <td>бензин</td>\n",
       "      <td>...</td>\n",
       "      <td>LIFTBACK ROBOT 1.8</td>\n",
       "      <td>роботизированная</td>\n",
       "      <td>EUROPEAN</td>\n",
       "      <td>1 владелец</td>\n",
       "      <td>NaN</td>\n",
       "      <td>Оригинал</td>\n",
       "      <td>передний</td>\n",
       "      <td>Левый</td>\n",
       "      <td>Не требует ремонта</td>\n",
       "      <td>Растаможен</td>\n",
       "    </tr>\n",
       "    <tr>\n",
       "      <th>3</th>\n",
       "      <td>лифтбек</td>\n",
       "      <td>SKODA</td>\n",
       "      <td>https://auto.ru/cars/used/sale/skoda/octavia/1...</td>\n",
       "      <td>коричневый</td>\n",
       "      <td>{\"id\":\"20803582\",\"name\":\"Ambition\",\"available_...</td>\n",
       "      <td>КОМПЛЕКТ ЗИМНЕЙ (ЛЕТНЕЙ) РЕЗИНЫ ПО СЕЗОНУ В ПО...</td>\n",
       "      <td>1.6 LTR</td>\n",
       "      <td>110 N12</td>\n",
       "      <td>{\"cruise-control\":true,\"roller-blind-for-rear-...</td>\n",
       "      <td>бензин</td>\n",
       "      <td>...</td>\n",
       "      <td>LIFTBACK AUTOMATIC 1.6</td>\n",
       "      <td>автоматическая</td>\n",
       "      <td>EUROPEAN</td>\n",
       "      <td>1 владелец</td>\n",
       "      <td>NaN</td>\n",
       "      <td>Оригинал</td>\n",
       "      <td>передний</td>\n",
       "      <td>Левый</td>\n",
       "      <td>Не требует ремонта</td>\n",
       "      <td>Растаможен</td>\n",
       "    </tr>\n",
       "    <tr>\n",
       "      <th>4</th>\n",
       "      <td>лифтбек</td>\n",
       "      <td>SKODA</td>\n",
       "      <td>https://auto.ru/cars/used/sale/skoda/octavia/1...</td>\n",
       "      <td>белый</td>\n",
       "      <td>NaN</td>\n",
       "      <td>ЛОТ: 01220889\\nАвтопрага Север\\n\\nВы можете по...</td>\n",
       "      <td>1.8 LTR</td>\n",
       "      <td>152 N12</td>\n",
       "      <td>{\"cruise-control\":true,\"asr\":true,\"esp\":true,\"...</td>\n",
       "      <td>бензин</td>\n",
       "      <td>...</td>\n",
       "      <td>LIFTBACK AUTOMATIC 1.8</td>\n",
       "      <td>автоматическая</td>\n",
       "      <td>EUROPEAN</td>\n",
       "      <td>1 владелец</td>\n",
       "      <td>NaN</td>\n",
       "      <td>Оригинал</td>\n",
       "      <td>передний</td>\n",
       "      <td>Левый</td>\n",
       "      <td>Не требует ремонта</td>\n",
       "      <td>Растаможен</td>\n",
       "    </tr>\n",
       "  </tbody>\n",
       "</table>\n",
       "<p>5 rows × 32 columns</p>\n",
       "</div>"
      ],
      "text/plain": [
       "  bodyType  brand                                            car_url  \\\n",
       "0  лифтбек  SKODA  https://auto.ru/cars/used/sale/skoda/octavia/1...   \n",
       "1  лифтбек  SKODA  https://auto.ru/cars/used/sale/skoda/octavia/1...   \n",
       "2  лифтбек  SKODA  https://auto.ru/cars/used/sale/skoda/superb/11...   \n",
       "3  лифтбек  SKODA  https://auto.ru/cars/used/sale/skoda/octavia/1...   \n",
       "4  лифтбек  SKODA  https://auto.ru/cars/used/sale/skoda/octavia/1...   \n",
       "\n",
       "        color                                 complectation_dict  \\\n",
       "0       синий                                                NaN   \n",
       "1      чёрный                                                NaN   \n",
       "2       серый  {\"id\":\"20026336\",\"name\":\"Ambition\",\"available_...   \n",
       "3  коричневый  {\"id\":\"20803582\",\"name\":\"Ambition\",\"available_...   \n",
       "4       белый                                                NaN   \n",
       "\n",
       "                                         description engineDisplacement  \\\n",
       "0  Все автомобили, представленные в продаже, прох...            1.2 LTR   \n",
       "1  ЛОТ: 01217195\\nАвтопрага Север\\nДанный автомоб...            1.6 LTR   \n",
       "2  Все автомобили, представленные в продаже, прох...            1.8 LTR   \n",
       "3  КОМПЛЕКТ ЗИМНЕЙ (ЛЕТНЕЙ) РЕЗИНЫ ПО СЕЗОНУ В ПО...            1.6 LTR   \n",
       "4  ЛОТ: 01220889\\nАвтопрага Север\\n\\nВы можете по...            1.8 LTR   \n",
       "\n",
       "  enginePower                                     equipment_dict fuelType  \\\n",
       "0     105 N12  {\"engine-proof\":true,\"tinted-glass\":true,\"airb...   бензин   \n",
       "1     110 N12  {\"cruise-control\":true,\"asr\":true,\"esp\":true,\"...   бензин   \n",
       "2     152 N12  {\"cruise-control\":true,\"tinted-glass\":true,\"es...   бензин   \n",
       "3     110 N12  {\"cruise-control\":true,\"roller-blind-for-rear-...   бензин   \n",
       "4     152 N12  {\"cruise-control\":true,\"asr\":true,\"esp\":true,\"...   бензин   \n",
       "\n",
       "   ...     vehicleConfiguration  vehicleTransmission    vendor    Владельцы  \\\n",
       "0  ...       LIFTBACK ROBOT 1.2     роботизированная  EUROPEAN  3 или более   \n",
       "1  ...  LIFTBACK MECHANICAL 1.6         механическая  EUROPEAN   1 владелец   \n",
       "2  ...       LIFTBACK ROBOT 1.8     роботизированная  EUROPEAN   1 владелец   \n",
       "3  ...   LIFTBACK AUTOMATIC 1.6       автоматическая  EUROPEAN   1 владелец   \n",
       "4  ...   LIFTBACK AUTOMATIC 1.8       автоматическая  EUROPEAN   1 владелец   \n",
       "\n",
       "  Владение       ПТС    Привод   Руль           Состояние     Таможня  \n",
       "0      NaN  Оригинал  передний  Левый  Не требует ремонта  Растаможен  \n",
       "1      NaN  Оригинал  передний  Левый  Не требует ремонта  Растаможен  \n",
       "2      NaN  Оригинал  передний  Левый  Не требует ремонта  Растаможен  \n",
       "3      NaN  Оригинал  передний  Левый  Не требует ремонта  Растаможен  \n",
       "4      NaN  Оригинал  передний  Левый  Не требует ремонта  Растаможен  \n",
       "\n",
       "[5 rows x 32 columns]"
      ]
     },
     "execution_count": 629,
     "metadata": {},
     "output_type": "execute_result"
    }
   ],
   "source": [
    "test_df.head()"
   ]
  },
  {
   "cell_type": "code",
   "execution_count": 630,
   "metadata": {},
   "outputs": [],
   "source": [
    "test_df['engineDisplacement'] = test_df['engineDisplacement'].apply(lambda x: x.replace(' LTR', ''))\n",
    "test_df['enginePower'] = test_df['enginePower'].apply(lambda x: x.replace(' N12', ''))\n",
    "test_df['engineDisplacement'] = test_df['engineDisplacement'].apply(lambda x: 0 if x == '' else x)\n",
    "test_df['engineDisplacement'] = test_df['engineDisplacement'].astype('float32')\n",
    "test_df['enginePower'] = test_df['enginePower'].apply(lambda x: x.replace(' ', '')).astype('float64')"
   ]
  },
  {
   "cell_type": "code",
   "execution_count": 631,
   "metadata": {},
   "outputs": [
    {
     "data": {
      "text/html": [
       "<div>\n",
       "<style scoped>\n",
       "    .dataframe tbody tr th:only-of-type {\n",
       "        vertical-align: middle;\n",
       "    }\n",
       "\n",
       "    .dataframe tbody tr th {\n",
       "        vertical-align: top;\n",
       "    }\n",
       "\n",
       "    .dataframe thead th {\n",
       "        text-align: right;\n",
       "    }\n",
       "</style>\n",
       "<table border=\"1\" class=\"dataframe\">\n",
       "  <thead>\n",
       "    <tr style=\"text-align: right;\">\n",
       "      <th></th>\n",
       "      <th>bodyType</th>\n",
       "      <th>brand</th>\n",
       "      <th>car_url</th>\n",
       "      <th>color</th>\n",
       "      <th>complectation_dict</th>\n",
       "      <th>description</th>\n",
       "      <th>engineDisplacement</th>\n",
       "      <th>enginePower</th>\n",
       "      <th>equipment_dict</th>\n",
       "      <th>fuelType</th>\n",
       "      <th>...</th>\n",
       "      <th>vehicleConfiguration</th>\n",
       "      <th>vehicleTransmission</th>\n",
       "      <th>vendor</th>\n",
       "      <th>Владельцы</th>\n",
       "      <th>Владение</th>\n",
       "      <th>ПТС</th>\n",
       "      <th>Привод</th>\n",
       "      <th>Руль</th>\n",
       "      <th>Состояние</th>\n",
       "      <th>Таможня</th>\n",
       "    </tr>\n",
       "  </thead>\n",
       "  <tbody>\n",
       "    <tr>\n",
       "      <th>0</th>\n",
       "      <td>лифтбек</td>\n",
       "      <td>SKODA</td>\n",
       "      <td>https://auto.ru/cars/used/sale/skoda/octavia/1...</td>\n",
       "      <td>синий</td>\n",
       "      <td>NaN</td>\n",
       "      <td>Все автомобили, представленные в продаже, прох...</td>\n",
       "      <td>1.2</td>\n",
       "      <td>105.0</td>\n",
       "      <td>{\"engine-proof\":true,\"tinted-glass\":true,\"airb...</td>\n",
       "      <td>бензин</td>\n",
       "      <td>...</td>\n",
       "      <td>LIFTBACK ROBOT 1.2</td>\n",
       "      <td>роботизированная</td>\n",
       "      <td>EUROPEAN</td>\n",
       "      <td>3 или более</td>\n",
       "      <td>NaN</td>\n",
       "      <td>Оригинал</td>\n",
       "      <td>передний</td>\n",
       "      <td>Левый</td>\n",
       "      <td>Не требует ремонта</td>\n",
       "      <td>Растаможен</td>\n",
       "    </tr>\n",
       "    <tr>\n",
       "      <th>1</th>\n",
       "      <td>лифтбек</td>\n",
       "      <td>SKODA</td>\n",
       "      <td>https://auto.ru/cars/used/sale/skoda/octavia/1...</td>\n",
       "      <td>чёрный</td>\n",
       "      <td>NaN</td>\n",
       "      <td>ЛОТ: 01217195\\nАвтопрага Север\\nДанный автомоб...</td>\n",
       "      <td>1.6</td>\n",
       "      <td>110.0</td>\n",
       "      <td>{\"cruise-control\":true,\"asr\":true,\"esp\":true,\"...</td>\n",
       "      <td>бензин</td>\n",
       "      <td>...</td>\n",
       "      <td>LIFTBACK MECHANICAL 1.6</td>\n",
       "      <td>механическая</td>\n",
       "      <td>EUROPEAN</td>\n",
       "      <td>1 владелец</td>\n",
       "      <td>NaN</td>\n",
       "      <td>Оригинал</td>\n",
       "      <td>передний</td>\n",
       "      <td>Левый</td>\n",
       "      <td>Не требует ремонта</td>\n",
       "      <td>Растаможен</td>\n",
       "    </tr>\n",
       "    <tr>\n",
       "      <th>2</th>\n",
       "      <td>лифтбек</td>\n",
       "      <td>SKODA</td>\n",
       "      <td>https://auto.ru/cars/used/sale/skoda/superb/11...</td>\n",
       "      <td>серый</td>\n",
       "      <td>{\"id\":\"20026336\",\"name\":\"Ambition\",\"available_...</td>\n",
       "      <td>Все автомобили, представленные в продаже, прох...</td>\n",
       "      <td>1.8</td>\n",
       "      <td>152.0</td>\n",
       "      <td>{\"cruise-control\":true,\"tinted-glass\":true,\"es...</td>\n",
       "      <td>бензин</td>\n",
       "      <td>...</td>\n",
       "      <td>LIFTBACK ROBOT 1.8</td>\n",
       "      <td>роботизированная</td>\n",
       "      <td>EUROPEAN</td>\n",
       "      <td>1 владелец</td>\n",
       "      <td>NaN</td>\n",
       "      <td>Оригинал</td>\n",
       "      <td>передний</td>\n",
       "      <td>Левый</td>\n",
       "      <td>Не требует ремонта</td>\n",
       "      <td>Растаможен</td>\n",
       "    </tr>\n",
       "    <tr>\n",
       "      <th>3</th>\n",
       "      <td>лифтбек</td>\n",
       "      <td>SKODA</td>\n",
       "      <td>https://auto.ru/cars/used/sale/skoda/octavia/1...</td>\n",
       "      <td>коричневый</td>\n",
       "      <td>{\"id\":\"20803582\",\"name\":\"Ambition\",\"available_...</td>\n",
       "      <td>КОМПЛЕКТ ЗИМНЕЙ (ЛЕТНЕЙ) РЕЗИНЫ ПО СЕЗОНУ В ПО...</td>\n",
       "      <td>1.6</td>\n",
       "      <td>110.0</td>\n",
       "      <td>{\"cruise-control\":true,\"roller-blind-for-rear-...</td>\n",
       "      <td>бензин</td>\n",
       "      <td>...</td>\n",
       "      <td>LIFTBACK AUTOMATIC 1.6</td>\n",
       "      <td>автоматическая</td>\n",
       "      <td>EUROPEAN</td>\n",
       "      <td>1 владелец</td>\n",
       "      <td>NaN</td>\n",
       "      <td>Оригинал</td>\n",
       "      <td>передний</td>\n",
       "      <td>Левый</td>\n",
       "      <td>Не требует ремонта</td>\n",
       "      <td>Растаможен</td>\n",
       "    </tr>\n",
       "    <tr>\n",
       "      <th>4</th>\n",
       "      <td>лифтбек</td>\n",
       "      <td>SKODA</td>\n",
       "      <td>https://auto.ru/cars/used/sale/skoda/octavia/1...</td>\n",
       "      <td>белый</td>\n",
       "      <td>NaN</td>\n",
       "      <td>ЛОТ: 01220889\\nАвтопрага Север\\n\\nВы можете по...</td>\n",
       "      <td>1.8</td>\n",
       "      <td>152.0</td>\n",
       "      <td>{\"cruise-control\":true,\"asr\":true,\"esp\":true,\"...</td>\n",
       "      <td>бензин</td>\n",
       "      <td>...</td>\n",
       "      <td>LIFTBACK AUTOMATIC 1.8</td>\n",
       "      <td>автоматическая</td>\n",
       "      <td>EUROPEAN</td>\n",
       "      <td>1 владелец</td>\n",
       "      <td>NaN</td>\n",
       "      <td>Оригинал</td>\n",
       "      <td>передний</td>\n",
       "      <td>Левый</td>\n",
       "      <td>Не требует ремонта</td>\n",
       "      <td>Растаможен</td>\n",
       "    </tr>\n",
       "  </tbody>\n",
       "</table>\n",
       "<p>5 rows × 32 columns</p>\n",
       "</div>"
      ],
      "text/plain": [
       "  bodyType  brand                                            car_url  \\\n",
       "0  лифтбек  SKODA  https://auto.ru/cars/used/sale/skoda/octavia/1...   \n",
       "1  лифтбек  SKODA  https://auto.ru/cars/used/sale/skoda/octavia/1...   \n",
       "2  лифтбек  SKODA  https://auto.ru/cars/used/sale/skoda/superb/11...   \n",
       "3  лифтбек  SKODA  https://auto.ru/cars/used/sale/skoda/octavia/1...   \n",
       "4  лифтбек  SKODA  https://auto.ru/cars/used/sale/skoda/octavia/1...   \n",
       "\n",
       "        color                                 complectation_dict  \\\n",
       "0       синий                                                NaN   \n",
       "1      чёрный                                                NaN   \n",
       "2       серый  {\"id\":\"20026336\",\"name\":\"Ambition\",\"available_...   \n",
       "3  коричневый  {\"id\":\"20803582\",\"name\":\"Ambition\",\"available_...   \n",
       "4       белый                                                NaN   \n",
       "\n",
       "                                         description  engineDisplacement  \\\n",
       "0  Все автомобили, представленные в продаже, прох...                 1.2   \n",
       "1  ЛОТ: 01217195\\nАвтопрага Север\\nДанный автомоб...                 1.6   \n",
       "2  Все автомобили, представленные в продаже, прох...                 1.8   \n",
       "3  КОМПЛЕКТ ЗИМНЕЙ (ЛЕТНЕЙ) РЕЗИНЫ ПО СЕЗОНУ В ПО...                 1.6   \n",
       "4  ЛОТ: 01220889\\nАвтопрага Север\\n\\nВы можете по...                 1.8   \n",
       "\n",
       "   enginePower                                     equipment_dict fuelType  \\\n",
       "0        105.0  {\"engine-proof\":true,\"tinted-glass\":true,\"airb...   бензин   \n",
       "1        110.0  {\"cruise-control\":true,\"asr\":true,\"esp\":true,\"...   бензин   \n",
       "2        152.0  {\"cruise-control\":true,\"tinted-glass\":true,\"es...   бензин   \n",
       "3        110.0  {\"cruise-control\":true,\"roller-blind-for-rear-...   бензин   \n",
       "4        152.0  {\"cruise-control\":true,\"asr\":true,\"esp\":true,\"...   бензин   \n",
       "\n",
       "   ...     vehicleConfiguration  vehicleTransmission    vendor    Владельцы  \\\n",
       "0  ...       LIFTBACK ROBOT 1.2     роботизированная  EUROPEAN  3 или более   \n",
       "1  ...  LIFTBACK MECHANICAL 1.6         механическая  EUROPEAN   1 владелец   \n",
       "2  ...       LIFTBACK ROBOT 1.8     роботизированная  EUROPEAN   1 владелец   \n",
       "3  ...   LIFTBACK AUTOMATIC 1.6       автоматическая  EUROPEAN   1 владелец   \n",
       "4  ...   LIFTBACK AUTOMATIC 1.8       автоматическая  EUROPEAN   1 владелец   \n",
       "\n",
       "  Владение       ПТС    Привод   Руль           Состояние     Таможня  \n",
       "0      NaN  Оригинал  передний  Левый  Не требует ремонта  Растаможен  \n",
       "1      NaN  Оригинал  передний  Левый  Не требует ремонта  Растаможен  \n",
       "2      NaN  Оригинал  передний  Левый  Не требует ремонта  Растаможен  \n",
       "3      NaN  Оригинал  передний  Левый  Не требует ремонта  Растаможен  \n",
       "4      NaN  Оригинал  передний  Левый  Не требует ремонта  Растаможен  \n",
       "\n",
       "[5 rows x 32 columns]"
      ]
     },
     "execution_count": 631,
     "metadata": {},
     "output_type": "execute_result"
    }
   ],
   "source": [
    "test_df.head()"
   ]
  },
  {
   "cell_type": "code",
   "execution_count": 632,
   "metadata": {},
   "outputs": [],
   "source": [
    "y = df['price']"
   ]
  },
  {
   "cell_type": "code",
   "execution_count": 633,
   "metadata": {},
   "outputs": [
    {
     "data": {
      "text/plain": [
       "2020-10-21    15907\n",
       "2020-10-20     6813\n",
       "2020-10-19     6441\n",
       "2020-10-25     2944\n",
       "2020-10-24     2123\n",
       "2020-10-26      458\n",
       "Name: parsing_dt, dtype: int64"
      ]
     },
     "execution_count": 633,
     "metadata": {},
     "output_type": "execute_result"
    }
   ],
   "source": [
    "### Нужно скорректировать целевую переменную на дату парсинга, если прошло много времени\n",
    "test_df['parsing_dt'] = test_df['parsing_unixtime'].apply(lambda x: datetime.utcfromtimestamp(x).strftime('%Y-%m-%d %H:%M:%S'))\n",
    "test_df['parsing_dt'] = test_df['parsing_dt'].astype('datetime64').dt.date\n",
    "test_df['parsing_dt'].value_counts() ### всё было спарсено в октябре 2020 года"
   ]
  },
  {
   "cell_type": "code",
   "execution_count": 634,
   "metadata": {},
   "outputs": [],
   "source": [
    "test_df['yearPublished'] = test_df['parsing_dt'].apply(lambda x: x.year)\n",
    "test_df['dateFromProduction'] = test_df['yearPublished'] - test_df['productionDate']"
   ]
  },
  {
   "cell_type": "markdown",
   "metadata": {},
   "source": [
    "###### Источник: \"Автомобили с пробегом в октябре подорожали на 4%\" (https://www.autostat.ru/news/49774/) © Автостат.\n",
    "        \n",
    "При этом по сравнению с показателем годичной давности (октябрь 2020-го) цены на вторичном рынке в среднем увеличились на 44%. То есть, в деньгах подержанные автомобили за год стали дороже на 267 тыс. рублей."
   ]
  },
  {
   "cell_type": "code",
   "execution_count": 635,
   "metadata": {},
   "outputs": [],
   "source": [
    "y = y / (1+0.44) ### приводим цены к нужному виду"
   ]
  },
  {
   "cell_type": "code",
   "execution_count": 636,
   "metadata": {},
   "outputs": [],
   "source": [
    "test_df = test_df[[i for i in required_feats if i in test_df.columns]]\n",
    "df = df[[i for i in required_feats if i in df.columns]]"
   ]
  },
  {
   "cell_type": "code",
   "execution_count": 637,
   "metadata": {},
   "outputs": [],
   "source": [
    "test_df=test_df.drop(columns=['name'])\n",
    "df = df.drop(columns=['name'])"
   ]
  },
  {
   "cell_type": "code",
   "execution_count": 638,
   "metadata": {
    "scrolled": true
   },
   "outputs": [
    {
     "data": {
      "text/plain": [
       "((3374, 11), (34686, 11))"
      ]
     },
     "execution_count": 638,
     "metadata": {},
     "output_type": "execute_result"
    }
   ],
   "source": [
    "df.shape, test_df.shape"
   ]
  },
  {
   "cell_type": "code",
   "execution_count": 639,
   "metadata": {},
   "outputs": [
    {
     "data": {
      "text/html": [
       "<div>\n",
       "<style scoped>\n",
       "    .dataframe tbody tr th:only-of-type {\n",
       "        vertical-align: middle;\n",
       "    }\n",
       "\n",
       "    .dataframe tbody tr th {\n",
       "        vertical-align: top;\n",
       "    }\n",
       "\n",
       "    .dataframe thead th {\n",
       "        text-align: right;\n",
       "    }\n",
       "</style>\n",
       "<table border=\"1\" class=\"dataframe\">\n",
       "  <thead>\n",
       "    <tr style=\"text-align: right;\">\n",
       "      <th></th>\n",
       "      <th>bodyType</th>\n",
       "      <th>brand</th>\n",
       "      <th>color</th>\n",
       "      <th>engineDisplacement</th>\n",
       "      <th>enginePower</th>\n",
       "      <th>fuelType</th>\n",
       "      <th>modelDate</th>\n",
       "      <th>model_name</th>\n",
       "      <th>numberOfDoors</th>\n",
       "      <th>productionDate</th>\n",
       "      <th>vehicleTransmission</th>\n",
       "    </tr>\n",
       "  </thead>\n",
       "  <tbody>\n",
       "    <tr>\n",
       "      <th>0</th>\n",
       "      <td>внедорожник 5 дв.</td>\n",
       "      <td>LAMBORGHINI</td>\n",
       "      <td>серый</td>\n",
       "      <td>4.0</td>\n",
       "      <td>650.0</td>\n",
       "      <td>бензин</td>\n",
       "      <td>2017</td>\n",
       "      <td>Urus I</td>\n",
       "      <td>5</td>\n",
       "      <td>2021</td>\n",
       "      <td>автоматическая</td>\n",
       "    </tr>\n",
       "    <tr>\n",
       "      <th>1</th>\n",
       "      <td>внедорожник 5 дв.</td>\n",
       "      <td>BMW</td>\n",
       "      <td>белый</td>\n",
       "      <td>3.0</td>\n",
       "      <td>249.0</td>\n",
       "      <td>дизель</td>\n",
       "      <td>2018</td>\n",
       "      <td>BMW X5 30d IV (G05)</td>\n",
       "      <td>5</td>\n",
       "      <td>2021</td>\n",
       "      <td>автоматическая</td>\n",
       "    </tr>\n",
       "    <tr>\n",
       "      <th>2</th>\n",
       "      <td>универсал 5 дв.</td>\n",
       "      <td>KIA</td>\n",
       "      <td>чёрный</td>\n",
       "      <td>1.4</td>\n",
       "      <td>140.0</td>\n",
       "      <td>бензин</td>\n",
       "      <td>2018</td>\n",
       "      <td>Ceed III</td>\n",
       "      <td>5</td>\n",
       "      <td>2019</td>\n",
       "      <td>роботизированная</td>\n",
       "    </tr>\n",
       "    <tr>\n",
       "      <th>3</th>\n",
       "      <td>седан</td>\n",
       "      <td>OPEL</td>\n",
       "      <td>серый</td>\n",
       "      <td>1.4</td>\n",
       "      <td>140.0</td>\n",
       "      <td>бензин</td>\n",
       "      <td>2012</td>\n",
       "      <td>Astra J Рестайлинг</td>\n",
       "      <td>4</td>\n",
       "      <td>2013</td>\n",
       "      <td>автоматическая</td>\n",
       "    </tr>\n",
       "    <tr>\n",
       "      <th>4</th>\n",
       "      <td>внедорожник 5 дв.</td>\n",
       "      <td>HYUNDAI</td>\n",
       "      <td>белый</td>\n",
       "      <td>1.6</td>\n",
       "      <td>123.0</td>\n",
       "      <td>бензин</td>\n",
       "      <td>2021</td>\n",
       "      <td>Creta II</td>\n",
       "      <td>5</td>\n",
       "      <td>2021</td>\n",
       "      <td>механическая</td>\n",
       "    </tr>\n",
       "  </tbody>\n",
       "</table>\n",
       "</div>"
      ],
      "text/plain": [
       "            bodyType        brand   color  engineDisplacement  enginePower  \\\n",
       "0  внедорожник 5 дв.  LAMBORGHINI   серый                 4.0        650.0   \n",
       "1  внедорожник 5 дв.          BMW   белый                 3.0        249.0   \n",
       "2    универсал 5 дв.          KIA  чёрный                 1.4        140.0   \n",
       "3              седан         OPEL   серый                 1.4        140.0   \n",
       "4  внедорожник 5 дв.      HYUNDAI   белый                 1.6        123.0   \n",
       "\n",
       "  fuelType  modelDate           model_name  numberOfDoors  productionDate  \\\n",
       "0   бензин       2017               Urus I              5            2021   \n",
       "1   дизель       2018  BMW X5 30d IV (G05)              5            2021   \n",
       "2   бензин       2018             Ceed III              5            2019   \n",
       "3   бензин       2012   Astra J Рестайлинг              4            2013   \n",
       "4   бензин       2021             Creta II              5            2021   \n",
       "\n",
       "  vehicleTransmission  \n",
       "0      автоматическая  \n",
       "1      автоматическая  \n",
       "2    роботизированная  \n",
       "3      автоматическая  \n",
       "4        механическая  "
      ]
     },
     "execution_count": 639,
     "metadata": {},
     "output_type": "execute_result"
    }
   ],
   "source": [
    "df.head()"
   ]
  },
  {
   "cell_type": "code",
   "execution_count": 640,
   "metadata": {},
   "outputs": [],
   "source": [
    "df = pd.get_dummies(df, columns=[i for i in df.columns if i not in ['modelDate', 'numberOfDoors', 'productionDate', 'engineDisplacement', 'enginePower', 'name', 'dateFromProduction']])\n",
    "test_df = pd.get_dummies(test_df, columns=[i for i in test_df.columns if i not in ['modelDate', 'numberOfDoors', 'productionDate', 'engineDisplacement', 'enginePower', 'name', 'dateFromProduction']])"
   ]
  },
  {
   "cell_type": "code",
   "execution_count": 641,
   "metadata": {
    "scrolled": true
   },
   "outputs": [
    {
     "data": {
      "text/plain": [
       "((3374, 1036), (34686, 610))"
      ]
     },
     "execution_count": 641,
     "metadata": {},
     "output_type": "execute_result"
    }
   ],
   "source": [
    "df.shape, test_df.shape"
   ]
  },
  {
   "cell_type": "code",
   "execution_count": 642,
   "metadata": {},
   "outputs": [],
   "source": [
    "### проверяем, что количество столбцов в обоих датасетах совпадает\n",
    "for i in test_df.columns:\n",
    "    if i not in df.columns:\n",
    "        df[i] = 0\n",
    "\n",
    "for i in df.columns:\n",
    "    if i not in test_df.columns:\n",
    "        test_df[i] = 0"
   ]
  },
  {
   "cell_type": "code",
   "execution_count": 643,
   "metadata": {
    "scrolled": true
   },
   "outputs": [
    {
     "data": {
      "text/plain": [
       "((3374, 1584), (34686, 1584))"
      ]
     },
     "execution_count": 643,
     "metadata": {},
     "output_type": "execute_result"
    }
   ],
   "source": [
    "df.shape, test_df.shape"
   ]
  },
  {
   "cell_type": "code",
   "execution_count": 644,
   "metadata": {},
   "outputs": [],
   "source": [
    "### после анализа через метод наименьших квадратов из пакета Statsmodels\n",
    "### убираем признаки, которые не отличаются от нуля на 5%-ном уровне значимости\n",
    "### то есть, признаки с p-value больше 0,05\n",
    "linreg_OLS = sm.OLS(y, sm.add_constant(df))\n",
    "linreg_OLS = linreg_OLS.fit()\n",
    "feats_to_keep = pd.DataFrame(linreg_OLS.pvalues).reset_index().dropna()\n",
    "feats_to_keep = feats_to_keep[feats_to_keep[0] <= 0.05]"
   ]
  },
  {
   "cell_type": "code",
   "execution_count": 645,
   "metadata": {},
   "outputs": [],
   "source": [
    "df = df[[i for i in feats_to_keep['index'].values if i != 'const']]\n",
    "test_df = test_df[[i for i in feats_to_keep['index'].values if i != 'const']]"
   ]
  },
  {
   "cell_type": "code",
   "execution_count": 646,
   "metadata": {},
   "outputs": [],
   "source": [
    "from sklearn.model_selection import GridSearchCV"
   ]
  },
  {
   "cell_type": "code",
   "execution_count": 647,
   "metadata": {},
   "outputs": [],
   "source": [
    "param_grid = {'depth':[5, 10, 15, 20, 25, 30],\n",
    "          'learning_rate':[0.3, 0.5, 0.7, 1]}"
   ]
  },
  {
   "cell_type": "code",
   "execution_count": 648,
   "metadata": {},
   "outputs": [],
   "source": [
    "model = CatBoostRegressor(iterations=1000)\n",
    "rgr = GridSearchCV(model, param_grid = param_grid, cv = 5)"
   ]
  },
  {
   "cell_type": "code",
   "execution_count": null,
   "metadata": {
    "scrolled": false
   },
   "outputs": [],
   "source": [
    "y_pred = rgr.fit(df, y).predict(test_df)"
   ]
  },
  {
   "cell_type": "code",
   "execution_count": 650,
   "metadata": {
    "scrolled": true
   },
   "outputs": [],
   "source": [
    "# forest = RandomForestRegressor(random_state=42)\n",
    "# param_grid = {'min_samples_split':[2,3,4,5,10, 15], 'min_samples_leaf':[1, 2,3,5,10,15], 'max_features':['auto', 'sqrt', 'log2'],\n",
    "#              'bootstrap':[True, False]}\n",
    "\n",
    "# rgr = GridSearchCV(forest, param_grid = param_grid, cv=5, verbose=1)\n",
    "\n",
    "# rgr = rgr.fit(df, y)\n",
    "# y_pred = rgr.predict(test_df)"
   ]
  },
  {
   "cell_type": "code",
   "execution_count": 651,
   "metadata": {},
   "outputs": [],
   "source": [
    "submission = pd.read_csv('test.csv')\n",
    "submission = submission[['sell_id']]\n",
    "submission['price'] = y_pred\n",
    "submission.to_csv('Car_Price_prediction_submission.csv', index=False)"
   ]
  }
 ],
 "metadata": {
  "kernelspec": {
   "display_name": "Python 3 (ipykernel)",
   "language": "python",
   "name": "python3"
  },
  "language_info": {
   "codemirror_mode": {
    "name": "ipython",
    "version": 3
   },
   "file_extension": ".py",
   "mimetype": "text/x-python",
   "name": "python",
   "nbconvert_exporter": "python",
   "pygments_lexer": "ipython3",
   "version": "3.9.7"
  }
 },
 "nbformat": 4,
 "nbformat_minor": 4
}
